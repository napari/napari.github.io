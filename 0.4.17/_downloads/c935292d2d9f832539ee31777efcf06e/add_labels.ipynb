{
  "cells": [
    {
      "cell_type": "code",
      "execution_count": null,
      "metadata": {
        "collapsed": false
      },
      "outputs": [],
      "source": [
        "%matplotlib inline"
      ]
    },
    {
      "cell_type": "markdown",
      "metadata": {},
      "source": [
        "\n# Add labels\n\nDisplay a labels layer above of an image layer using the ``add_labels`` and\n``add_image`` APIs\n\n.. tags:: layers, visualization-basic\n"
      ]
    },
    {
      "cell_type": "code",
      "execution_count": null,
      "metadata": {
        "collapsed": false
      },
      "outputs": [],
      "source": [
        "from skimage import data\nfrom skimage.filters import threshold_otsu\nfrom skimage.segmentation import clear_border\nfrom skimage.measure import label\nfrom skimage.morphology import closing, square, remove_small_objects\nimport napari\n\n\nimage = data.coins()[50:-50, 50:-50]\n\n# apply threshold\nthresh = threshold_otsu(image)\nbw = closing(image > thresh, square(4))\n\n# remove artifacts connected to image border\ncleared = remove_small_objects(clear_border(bw), 20)\n\n# label image regions\nlabel_image = label(cleared)\n\n# initialise viewer with coins image\nviewer = napari.view_image(image, name='coins', rgb=False)\n\n# add the labels\nlabel_layer = viewer.add_labels(label_image, name='segmentation')\n\nif __name__ == '__main__':\n    napari.run()"
      ]
    }
  ],
  "metadata": {
    "kernelspec": {
      "display_name": "Python 3",
      "language": "python",
      "name": "python3"
    },
    "language_info": {
      "codemirror_mode": {
        "name": "ipython",
        "version": 3
      },
      "file_extension": ".py",
      "mimetype": "text/x-python",
      "name": "python",
      "nbconvert_exporter": "python",
      "pygments_lexer": "ipython3",
      "version": "3.9.15"
    }
  },
  "nbformat": 4,
  "nbformat_minor": 0
}