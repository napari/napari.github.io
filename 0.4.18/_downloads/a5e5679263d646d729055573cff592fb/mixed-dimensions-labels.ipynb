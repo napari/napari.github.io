{
  "cells": [
    {
      "cell_type": "markdown",
      "metadata": {},
      "source": [
        "\n# Mixed dimensions labels\n\nOverlay a 3D segmentation on a 4D time series.\n\nSometimes, our data have mixed dimensionality. napari \"right-aligns\" the\ndimensions of your data, following NumPy broadcasting conventions [1]_. In this\nexample, we show how we can see a 3D segmentation overlaid on a 4D dataset. As\nwe slice through the dataset, the segmentation stays unchanged, but is visible\non every slice.\n\n.. [1] https://numpy.org/doc/stable/user/basics.broadcasting.html\n\n.. tags:: visualization-nD\n"
      ]
    },
    {
      "cell_type": "code",
      "execution_count": null,
      "metadata": {
        "collapsed": false
      },
      "outputs": [],
      "source": [
        "import numpy as np\nfrom scipy import ndimage as ndi\nfrom skimage.data import binary_blobs\n\nimport napari\n\nblobs3d = binary_blobs(length=64, volume_fraction=0.1, n_dim=3).astype(float)\n\nblobs3dt = np.stack([np.roll(blobs3d, 3 * i, axis=2) for i in range(10)])\n\nlabels = ndi.label(blobs3dt[5])[0]\n\nviewer = napari.Viewer(ndisplay=3)\n\nimage_layer = viewer.add_image(blobs3dt)\nlabels_layer = viewer.add_labels(labels)\nviewer.dims.current_step = (5, 0, 0, 0)\n\nif __name__ == '__main__':\n    napari.run()"
      ]
    }
  ],
  "metadata": {
    "kernelspec": {
      "display_name": "Python 3",
      "language": "python",
      "name": "python3"
    },
    "language_info": {
      "codemirror_mode": {
        "name": "ipython",
        "version": 3
      },
      "file_extension": ".py",
      "mimetype": "text/x-python",
      "name": "python",
      "nbconvert_exporter": "python",
      "pygments_lexer": "ipython3",
      "version": "3.9.16"
    }
  },
  "nbformat": 4,
  "nbformat_minor": 0
}