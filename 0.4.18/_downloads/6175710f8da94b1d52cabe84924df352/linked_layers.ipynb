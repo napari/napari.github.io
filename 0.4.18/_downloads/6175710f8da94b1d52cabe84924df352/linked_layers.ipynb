{
  "cells": [
    {
      "cell_type": "markdown",
      "metadata": {},
      "source": [
        "\n# Linked layers\n\nDemonstrates the `link_layers` function.\n\nThis function takes a list of layers and an optional list of attributes, and\nlinks them such that when one of the linked attributes changes on any of the\nlinked layers, all of the other layers follow.\n\n.. tags:: experimental\n"
      ]
    },
    {
      "cell_type": "code",
      "execution_count": null,
      "metadata": {
        "collapsed": false
      },
      "outputs": [],
      "source": [
        "import numpy as np\n\nimport napari\nfrom napari.experimental import link_layers\n\nviewer = napari.view_image(np.random.rand(3, 64, 64), channel_axis=0)\n\n# link contrast_limits and gamma between all layers in viewer\n# NOTE: you may also omit the second argument to link ALL valid, common\n# attributes for the set of layers provided\nlink_layers(viewer.layers, ('contrast_limits', 'gamma'))\n\n# unlinking may be done with napari.experimental.unlink_layers\n\n# this may also be done in a context manager:\n# with napari.experimental.layers_linked([layers]):\n#     ...\n\nif __name__ == '__main__':\n    napari.run()"
      ]
    }
  ],
  "metadata": {
    "kernelspec": {
      "display_name": "Python 3",
      "language": "python",
      "name": "python3"
    },
    "language_info": {
      "codemirror_mode": {
        "name": "ipython",
        "version": 3
      },
      "file_extension": ".py",
      "mimetype": "text/x-python",
      "name": "python",
      "nbconvert_exporter": "python",
      "pygments_lexer": "ipython3",
      "version": "3.9.16"
    }
  },
  "nbformat": 4,
  "nbformat_minor": 0
}