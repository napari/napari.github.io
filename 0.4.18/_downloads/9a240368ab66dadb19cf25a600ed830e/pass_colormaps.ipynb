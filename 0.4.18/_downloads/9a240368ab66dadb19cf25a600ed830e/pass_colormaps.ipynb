{
  "cells": [
    {
      "cell_type": "markdown",
      "metadata": {},
      "source": [
        "\n# Pass colormaps\n\nAdd named or unnamed vispy colormaps to existing layers.\n\n.. tags:: visualization-basic\n"
      ]
    },
    {
      "cell_type": "code",
      "execution_count": null,
      "metadata": {
        "collapsed": false
      },
      "outputs": [],
      "source": [
        "import numpy as np\nfrom skimage import data\n\nimport napari\n\nhisto = data.astronaut() / 255\nrch, gch, bch = np.transpose(histo, (2, 0, 1))\n\nv = napari.Viewer()\n\nrlayer = v.add_image(\n    rch, name='red channel', colormap='red', blending='additive'\n)\nglayer = v.add_image(\n    gch, name='green channel', colormap='green', blending='additive'\n)\nblayer = v.add_image(\n    bch, name='blue channel', colormap='blue', blending='additive'\n)\n\nif __name__ == '__main__':\n    napari.run()"
      ]
    }
  ],
  "metadata": {
    "kernelspec": {
      "display_name": "Python 3",
      "language": "python",
      "name": "python3"
    },
    "language_info": {
      "codemirror_mode": {
        "name": "ipython",
        "version": 3
      },
      "file_extension": ".py",
      "mimetype": "text/x-python",
      "name": "python",
      "nbconvert_exporter": "python",
      "pygments_lexer": "ipython3",
      "version": "3.9.16"
    }
  },
  "nbformat": 4,
  "nbformat_minor": 0
}