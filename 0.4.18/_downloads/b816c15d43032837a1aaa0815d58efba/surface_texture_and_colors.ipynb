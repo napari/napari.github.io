{
  "cells": [
    {
      "cell_type": "markdown",
      "metadata": {},
      "source": [
        "\n# Surface with texture and vertex_colors\n\nDisplay a 3D surface with both texture and color maps.\n\nThis example demonstrates how surfaces may be colored by:\n    * setting `vertex_values`, which colors the surface with the selected\n      `colormap`\n    * setting `vertex_colors`, which replaces/overrides any color from\n      `vertex_values`\n    * setting both `texture` and `texcoords`, which blends a the value from\n      a texture (image) with the underlying color from `vertex_values` or\n      `vertex_colors`. Blending is achieved by multiplying the texture color by\n      the underlying color - an underlying value of \"white\" will result in the\n      unaltered texture color.\n\n.. tags:: visualization-nD\n"
      ]
    },
    {
      "cell_type": "code",
      "execution_count": null,
      "metadata": {
        "collapsed": false
      },
      "outputs": [],
      "source": [
        "import numpy as np\nfrom vispy.io import imread, load_data_file, read_mesh\n\nimport napari\n\n# load the model and texture\nmesh_path = load_data_file('spot/spot.obj.gz')\nvertices, faces, _normals, texcoords = read_mesh(mesh_path)\nn = len(vertices)\ntexture_path = load_data_file('spot/spot.png')\ntexture = imread(texture_path)\n\nflat_spot = napari.layers.Surface(\n    (vertices, faces),\n    translate=(1, 0, 0),\n    texture=texture,\n    texcoords=texcoords,\n    shading=\"flat\",\n    name=\"texture only\",\n)\n\nnp.random.seed(0)\nplasma_spot = napari.layers.Surface(\n    (vertices, faces, np.random.random((3, 3, n))),\n    texture=texture,\n    texcoords=texcoords,\n    colormap=\"plasma\",\n    shading=\"smooth\",\n    name=\"vertex_values and texture\",\n)\n\nrainbow_spot = napari.layers.Surface(\n    (vertices, faces),\n    translate=(-1, 0, 0),\n    texture=texture,\n    texcoords=texcoords,\n    # the vertices are _roughly_ in [-1, 1] for this model and RGB values just\n    # get clipped to [0, 1], adding 0.5 brightens it up a little :)\n    vertex_colors=vertices + 0.5,\n    shading=\"none\",\n    name=\"vertex_colors and texture\",\n)\n\n# create the viewer and window\nviewer = napari.Viewer(ndisplay=3)\nviewer.add_layer(flat_spot)\nviewer.add_layer(plasma_spot)\nviewer.add_layer(rainbow_spot)\n\nviewer.camera.center = (0.0, 0.0, 0.0)\nviewer.camera.angles = (25.0, -50.0, -125.0)\nviewer.camera.zoom = 150\n\n\nif __name__ == '__main__':\n    napari.run()"
      ]
    }
  ],
  "metadata": {
    "kernelspec": {
      "display_name": "Python 3",
      "language": "python",
      "name": "python3"
    },
    "language_info": {
      "codemirror_mode": {
        "name": "ipython",
        "version": 3
      },
      "file_extension": ".py",
      "mimetype": "text/x-python",
      "name": "python",
      "nbconvert_exporter": "python",
      "pygments_lexer": "ipython3",
      "version": "3.9.16"
    }
  },
  "nbformat": 4,
  "nbformat_minor": 0
}