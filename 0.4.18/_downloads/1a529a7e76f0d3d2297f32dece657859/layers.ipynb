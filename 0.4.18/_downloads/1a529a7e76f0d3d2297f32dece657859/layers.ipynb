{
  "cells": [
    {
      "cell_type": "markdown",
      "metadata": {},
      "source": [
        "\n# Layers\n\nDisplay multiple image layers using the ``add_image`` API and then reorder them\nusing the layers swap method and remove one\n\n.. tags:: visualization-basic\n"
      ]
    },
    {
      "cell_type": "code",
      "execution_count": null,
      "metadata": {
        "collapsed": false
      },
      "outputs": [],
      "source": [
        "import numpy as np\nfrom skimage import data\nfrom skimage.color import rgb2gray\n\nimport napari\n\n# create the viewer with several image layers\nviewer = napari.view_image(rgb2gray(data.astronaut()), name='astronaut')\nviewer.add_image(data.camera(), name='photographer')\nviewer.add_image(data.coins(), name='coins')\nviewer.add_image(data.moon(), name='moon')\nviewer.add_image(np.random.random((512, 512)), name='random')\nviewer.add_image(data.binary_blobs(length=512, volume_fraction=0.2, n_dim=2), name='blobs')\nviewer.grid.enabled = True\n\nif __name__ == '__main__':\n    napari.run()"
      ]
    }
  ],
  "metadata": {
    "kernelspec": {
      "display_name": "Python 3",
      "language": "python",
      "name": "python3"
    },
    "language_info": {
      "codemirror_mode": {
        "name": "ipython",
        "version": 3
      },
      "file_extension": ".py",
      "mimetype": "text/x-python",
      "name": "python",
      "nbconvert_exporter": "python",
      "pygments_lexer": "ipython3",
      "version": "3.9.16"
    }
  },
  "nbformat": 4,
  "nbformat_minor": 0
}