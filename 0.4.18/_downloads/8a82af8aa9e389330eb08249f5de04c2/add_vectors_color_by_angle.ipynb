{
  "cells": [
    {
      "cell_type": "markdown",
      "metadata": {},
      "source": [
        "\n# Add vectors color by angle\n\nThis example generates a set of vectors in a spiral pattern.\nThe color of the vectors is mapped to their 'angle' feature.\n\n.. tags:: visualization-advanced\n"
      ]
    },
    {
      "cell_type": "code",
      "execution_count": null,
      "metadata": {
        "collapsed": false
      },
      "outputs": [],
      "source": [
        "import numpy as np\nfrom skimage import data\n\nimport napari\n\n# create the viewer and window\nviewer = napari.Viewer()\n\nlayer = viewer.add_image(data.camera(), name='photographer')\n\n# sample vector coord-like data\nn = 300\npos = np.zeros((n, 2, 2), dtype=np.float32)\nphi_space = np.linspace(0, 4 * np.pi, n)\nradius_space = np.linspace(0, 100, n)\n\n# assign x-y position\npos[:, 0, 0] = radius_space * np.cos(phi_space) + 300\npos[:, 0, 1] = radius_space * np.sin(phi_space) + 256\n\n# assign x-y projection\npos[:, 1, 0] = 2 * radius_space * np.cos(phi_space)\npos[:, 1, 1] = 2 * radius_space * np.sin(phi_space)\n\n# make the angle feature, range 0-2pi\nangle = np.mod(phi_space, 2 * np.pi)\n\n# create a feature that is true for all angles  > pi\npos_angle = angle > np.pi\n\n# create the features dictionary.\nfeatures = {\n    'angle': angle,\n    'pos_angle': pos_angle,\n}\n\n# add the vectors\nlayer = viewer.add_vectors(\n    pos,\n    edge_width=3,\n    features=features,\n    edge_color='angle',\n    edge_colormap='husl',\n    name='vectors'\n)\n\n# set the edge color mode to colormap\nlayer.edge_color_mode = 'colormap'\n\nif __name__ == '__main__':\n    napari.run()"
      ]
    }
  ],
  "metadata": {
    "kernelspec": {
      "display_name": "Python 3",
      "language": "python",
      "name": "python3"
    },
    "language_info": {
      "codemirror_mode": {
        "name": "ipython",
        "version": 3
      },
      "file_extension": ".py",
      "mimetype": "text/x-python",
      "name": "python",
      "nbconvert_exporter": "python",
      "pygments_lexer": "ipython3",
      "version": "3.9.16"
    }
  },
  "nbformat": 4,
  "nbformat_minor": 0
}