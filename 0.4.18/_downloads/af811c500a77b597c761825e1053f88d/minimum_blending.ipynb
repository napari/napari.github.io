{
  "cells": [
    {
      "cell_type": "markdown",
      "metadata": {},
      "source": [
        "\n# Minimum blending\n\nDemonstrates how to use the `minimum` blending mode with inverted colormaps.\n`minimum` blending uses the minimum value of each R, G, B channel for each pixel.\n`minimum` blending can be used to yield multichannel color images on a white\nbackground, when the channels have inverted colormaps assigned.\nAn inverted colormap is one where white [1, 1, 1] is used to represent the lowest\nvalues, as opposed to the more conventional black [0, 0, 0]. For example, try the\ncolormaps prefixed with *I*, such as *I Forest* or *I Bordeaux*, from\nChrisLUTs: https://github.com/cleterrier/ChrisLUTs .\n\n.. tags:: visualization-basic\n"
      ]
    },
    {
      "cell_type": "code",
      "execution_count": null,
      "metadata": {
        "collapsed": false
      },
      "outputs": [],
      "source": [
        "from skimage import data\n\nimport napari\n\n# create a viewer\nviewer = napari.Viewer()\n\n# Add the cells3d example image, using the two inverted colormaps\n# and minimum blending mode. Note that the bottom-most layer\n# must be translucent or opaque to prevent blending with the canvas.\nviewer.add_image(data.cells3d(),\n                            name=[\"membrane\", \"nuclei\"],\n                            channel_axis=1,\n                            contrast_limits = [[1110, 23855], [1600, 50000]],\n                            colormap = [\"I Purple\", \"I Orange\"],\n                            blending= [\"translucent_no_depth\", \"minimum\"]\n                            )\n\nif __name__ == '__main__':\n    napari.run()"
      ]
    }
  ],
  "metadata": {
    "kernelspec": {
      "display_name": "Python 3",
      "language": "python",
      "name": "python3"
    },
    "language_info": {
      "codemirror_mode": {
        "name": "ipython",
        "version": 3
      },
      "file_extension": ".py",
      "mimetype": "text/x-python",
      "name": "python",
      "nbconvert_exporter": "python",
      "pygments_lexer": "ipython3",
      "version": "3.9.16"
    }
  },
  "nbformat": 4,
  "nbformat_minor": 0
}