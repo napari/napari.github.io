{
  "cells": [
    {
      "cell_type": "code",
      "execution_count": null,
      "metadata": {
        "collapsed": false
      },
      "outputs": [],
      "source": [
        "%matplotlib inline"
      ]
    },
    {
      "cell_type": "markdown",
      "metadata": {},
      "source": [
        "\n# Add points with features\n\nDisplay a points layer on top of an image layer using the ``add_points`` and\n``add_image`` APIs\n\n.. tags:: visualization-basic\n"
      ]
    },
    {
      "cell_type": "code",
      "execution_count": null,
      "metadata": {
        "collapsed": false
      },
      "outputs": [],
      "source": [
        "import numpy as np\nfrom skimage import data\nfrom skimage.color import rgb2gray\nimport napari\n\n\n# add the image\nviewer = napari.view_image(rgb2gray(data.astronaut()))\n# add the points\npoints = np.array([[100, 100], [200, 200], [333, 111]])\n\n# create features for each point\nfeatures = {\n    'confidence': np.array([1, 0.5, 0]),\n    'good_point': np.array([True, False, False])\n}\n\n# define the color cycle for the face_color annotation\nface_color_cycle = ['blue', 'green']\n\n# create a points layer where the face_color is set by the good_point feature\n# and the edge_color is set via a color map (grayscale) on the confidence\n# feature.\npoints_layer = viewer.add_points(\n    points,\n    features=features,\n    size=20,\n    edge_width=7,\n    edge_width_is_relative=False,\n    edge_color='confidence',\n    edge_colormap='gray',\n    face_color='good_point',\n    face_color_cycle=face_color_cycle\n)\n\n# set the edge_color mode to colormap\npoints_layer.edge_color_mode = 'colormap'\n\n\n# bind a function to toggle the good_point annotation of the selected points\n@viewer.bind_key('t')\ndef toggle_point_annotation(viewer):\n    selected_points = list(points_layer.selected_data)\n    if len(selected_points) > 0:\n        good_point = points_layer.features['good_point']\n        good_point[selected_points] = ~good_point[selected_points]\n        points_layer.features['good_point'] = good_point\n\n        # we need to manually refresh since we did not use the Points.features\n        # setter to avoid changing the color map if all points get toggled to\n        # the same class, we set update_colors=False (only re-colors the point\n        # using the previously-determined color mapping).\n        points_layer.refresh_colors(update_color_mapping=False)\n\n\nif __name__ == '__main__':\n    napari.run()"
      ]
    }
  ],
  "metadata": {
    "kernelspec": {
      "display_name": "Python 3",
      "language": "python",
      "name": "python3"
    },
    "language_info": {
      "codemirror_mode": {
        "name": "ipython",
        "version": 3
      },
      "file_extension": ".py",
      "mimetype": "text/x-python",
      "name": "python",
      "nbconvert_exporter": "python",
      "pygments_lexer": "ipython3",
      "version": "3.9.15"
    }
  },
  "nbformat": 4,
  "nbformat_minor": 0
}