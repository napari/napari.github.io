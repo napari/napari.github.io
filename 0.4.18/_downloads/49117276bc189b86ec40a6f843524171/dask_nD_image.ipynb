{
  "cells": [
    {
      "cell_type": "markdown",
      "metadata": {},
      "source": [
        "\n# Dask nD image\n\nDisplay a dask array\n\n.. tags:: visualization-nD\n"
      ]
    },
    {
      "cell_type": "code",
      "execution_count": null,
      "metadata": {
        "collapsed": false
      },
      "outputs": [],
      "source": [
        "try:\n    from dask import array as da\nexcept ModuleNotFoundError:\n    raise ModuleNotFoundError(\n        \"\"\"This example uses a dask array but dask is not\n    installed. To install try 'pip install dask'.\"\"\"\n    ) from None\n\nimport numpy as np\nfrom skimage import data\n\nimport napari\n\nblobs = da.stack(\n    [\n        data.binary_blobs(\n            length=128, blob_size_fraction=0.05, n_dim=3, volume_fraction=f\n        )\n        for f in np.linspace(0.05, 0.5, 10)\n    ],\n    axis=0,\n)\nviewer = napari.view_image(blobs.astype(float))\n\nif __name__ == '__main__':\n    napari.run()"
      ]
    }
  ],
  "metadata": {
    "kernelspec": {
      "display_name": "Python 3",
      "language": "python",
      "name": "python3"
    },
    "language_info": {
      "codemirror_mode": {
        "name": "ipython",
        "version": 3
      },
      "file_extension": ".py",
      "mimetype": "text/x-python",
      "name": "python",
      "nbconvert_exporter": "python",
      "pygments_lexer": "ipython3",
      "version": "3.9.16"
    }
  },
  "nbformat": 4,
  "nbformat_minor": 0
}