{
  "cells": [
    {
      "cell_type": "markdown",
      "metadata": {},
      "source": [
        "\n# Surface normals wireframe\n\nDisplay a 3D mesh with normals and wireframe\n\n.. tags:: experimental\n"
      ]
    },
    {
      "cell_type": "code",
      "execution_count": null,
      "metadata": {
        "collapsed": false
      },
      "outputs": [],
      "source": [
        "from vispy.io import load_data_file, read_mesh\n\nimport napari\n\nvert, faces, _, _ = read_mesh(load_data_file('orig/triceratops.obj.gz'))\n\n# put the mesh right side up, scale it up (napari#3477) and fix faces handedness\nvert *= -100\nfaces = faces[:, ::-1]\n\nviewer = napari.Viewer(ndisplay=3)\nsurface = viewer.add_surface(data=(vert, faces))\n\n# enable normals and wireframe\nsurface.normals.face.visible = True\nsurface.normals.vertex.visible = True\nsurface.wireframe.visible = True\n\nif __name__ == '__main__':\n    napari.run()"
      ]
    }
  ],
  "metadata": {
    "kernelspec": {
      "display_name": "Python 3",
      "language": "python",
      "name": "python3"
    },
    "language_info": {
      "codemirror_mode": {
        "name": "ipython",
        "version": 3
      },
      "file_extension": ".py",
      "mimetype": "text/x-python",
      "name": "python",
      "nbconvert_exporter": "python",
      "pygments_lexer": "ipython3",
      "version": "3.9.16"
    }
  },
  "nbformat": 4,
  "nbformat_minor": 0
}