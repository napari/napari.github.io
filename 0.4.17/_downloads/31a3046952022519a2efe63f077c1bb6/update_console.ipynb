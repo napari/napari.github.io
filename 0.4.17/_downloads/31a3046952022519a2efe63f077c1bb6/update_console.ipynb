{
  "cells": [
    {
      "cell_type": "code",
      "execution_count": null,
      "metadata": {
        "collapsed": false
      },
      "outputs": [],
      "source": [
        "%matplotlib inline"
      ]
    },
    {
      "cell_type": "markdown",
      "metadata": {},
      "source": [
        "\n# Update console\n\nDisplay one shapes layer ontop of one image layer using the add_shapes and\nadd_image APIs. When the window is closed it will print the coordinates of\nyour shapes.\n\n.. tags:: historical\n"
      ]
    },
    {
      "cell_type": "code",
      "execution_count": null,
      "metadata": {
        "collapsed": false
      },
      "outputs": [],
      "source": [
        "import numpy as np\nfrom skimage import data\nimport napari\n\n\n# create the viewer and window\nviewer = napari.Viewer()\n\n# add the image\nphotographer = data.camera()\nimage_layer = napari.view_image(photographer, name='photographer')\n\n# create a list of polygons\npolygons = [\n    np.array([[11, 13], [111, 113], [22, 246]]),\n    np.array(\n        [\n            [505, 60],\n            [402, 71],\n            [383, 42],\n            [251, 95],\n            [212, 59],\n            [131, 137],\n            [126, 187],\n            [191, 204],\n            [171, 248],\n            [211, 260],\n            [273, 243],\n            [264, 225],\n            [430, 173],\n            [512, 160],\n        ]\n    ),\n    np.array(\n        [\n            [310, 382],\n            [229, 381],\n            [209, 401],\n            [221, 411],\n            [258, 411],\n            [300, 412],\n            [306, 435],\n            [268, 434],\n            [265, 454],\n            [298, 461],\n            [307, 461],\n            [307, 507],\n            [349, 510],\n            [352, 369],\n            [330, 366],\n            [330, 366],\n        ]\n    ),\n]\n\n# add polygons\nshapes_layer = viewer.add_shapes(\n    polygons,\n    shape_type='polygon',\n    edge_width=5,\n    edge_color='coral',\n    face_color='royalblue',\n    name='shapes',\n)\n\n# Send local variables to the console\nviewer.update_console(locals())\n\nif __name__ == '__main__':\n    napari.run()"
      ]
    }
  ],
  "metadata": {
    "kernelspec": {
      "display_name": "Python 3",
      "language": "python",
      "name": "python3"
    },
    "language_info": {
      "codemirror_mode": {
        "name": "ipython",
        "version": 3
      },
      "file_extension": ".py",
      "mimetype": "text/x-python",
      "name": "python",
      "nbconvert_exporter": "python",
      "pygments_lexer": "ipython3",
      "version": "3.9.15"
    }
  },
  "nbformat": 4,
  "nbformat_minor": 0
}