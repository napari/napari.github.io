{
  "cells": [
    {
      "cell_type": "markdown",
      "metadata": {},
      "source": [
        "\n# Add points on nD shapes\n\nAdd points on nD shapes in 3D using a mouse callback\n\n.. tags:: visualization-nD\n"
      ]
    },
    {
      "cell_type": "code",
      "execution_count": null,
      "metadata": {
        "collapsed": false
      },
      "outputs": [],
      "source": [
        "import numpy as np\n\nimport napari\n\n# Create rectangles in 4D\ndata = [\n        [\n            [0, 50, 75, 75],\n            [0, 50, 125, 75],\n            [0, 100, 125, 125],\n            [0, 100, 75, 125]\n        ],\n        [\n            [0, 10, 75, 75],\n            [0, 10, 125, 75],\n            [0, 40, 125, 125],\n            [0, 40, 75, 125]\n        ],\n        [\n            [1, 100, 75, 75],\n            [1, 100, 125, 75],\n            [1, 50, 125, 125],\n            [1, 50, 75, 125]\n        ]\n    ]\n\nshapes_data = np.array(data)\n\n# add an empty 4d points layer\nviewer = napari.view_points(ndim=4, size=3)\npoints_layer = viewer.layers[0]\n\n# add the shapes layer to the viewer\nfeatures = {'index': [0, 1, 2]}\nfor shape_type, mult in {('ellipse', 1), ('rectangle', -1)}:\n    shapes_layer = viewer.add_shapes(\n        shapes_data * mult,\n        face_color=['magenta', 'green', 'blue'],\n        edge_color='white',\n        blending='additive',\n        features=features,\n        text='index',\n        shape_type=shape_type,\n    )\n\n    @shapes_layer.mouse_drag_callbacks.append\n    def on_click(layer, event):\n\n        shape_index, intersection_point = layer.get_index_and_intersection(\n            event.position, event.view_direction, event.dims_displayed\n        )\n\n        if (shape_index is not None) and (intersection_point is not None):\n            points_layer.add(intersection_point)\n\n\nfor d in data:\n    viewer.add_points(np.array(d))\n# set the viewer to 3D rendering mode with the first two rectangles in view\nviewer.dims.ndisplay = 3\nviewer.dims.set_point(axis=0, value=0)\nviewer.camera.angles = (70, 30, 150)\nviewer.camera.zoom = 2.5\n\nif __name__ == '__main__':\n    napari.run()"
      ]
    }
  ],
  "metadata": {
    "kernelspec": {
      "display_name": "Python 3",
      "language": "python",
      "name": "python3"
    },
    "language_info": {
      "codemirror_mode": {
        "name": "ipython",
        "version": 3
      },
      "file_extension": ".py",
      "mimetype": "text/x-python",
      "name": "python",
      "nbconvert_exporter": "python",
      "pygments_lexer": "ipython3",
      "version": "3.9.16"
    }
  },
  "nbformat": 4,
  "nbformat_minor": 0
}