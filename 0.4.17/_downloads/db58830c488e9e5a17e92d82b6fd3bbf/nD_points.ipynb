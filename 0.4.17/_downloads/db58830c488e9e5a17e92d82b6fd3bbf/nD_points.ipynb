{
  "cells": [
    {
      "cell_type": "code",
      "execution_count": null,
      "metadata": {
        "collapsed": false
      },
      "outputs": [],
      "source": [
        "%matplotlib inline"
      ]
    },
    {
      "cell_type": "markdown",
      "metadata": {},
      "source": [
        "\n# nD points\n\nDisplay one points layer on top of one 4-D image layer using the\nadd_points and add_image APIs, where the markes are visible as nD objects\nacross the dimensions, specified by their size\n\n.. tags:: visualization-nD\n"
      ]
    },
    {
      "cell_type": "code",
      "execution_count": null,
      "metadata": {
        "collapsed": false
      },
      "outputs": [],
      "source": [
        "import numpy as np\nfrom skimage import data\nimport napari\n\n\nblobs = np.stack(\n    [\n        data.binary_blobs(\n            length=128, blob_size_fraction=0.05, n_dim=3, volume_fraction=f\n        )\n        for f in np.linspace(0.05, 0.5, 10)\n    ],\n    axis=0,\n)\nviewer = napari.view_image(blobs.astype(float))\n\n# add the points\npoints = np.array(\n    [\n        [0, 0, 100, 100],\n        [0, 0, 50, 120],\n        [1, 0, 100, 40],\n        [2, 10, 110, 100],\n        [9, 8, 80, 100],\n    ], dtype=float\n)\nviewer.add_points(\n    points, size=[0, 6, 10, 10], face_color='blue', out_of_slice_display=True\n)\n\nif __name__ == '__main__':\n    napari.run()"
      ]
    }
  ],
  "metadata": {
    "kernelspec": {
      "display_name": "Python 3",
      "language": "python",
      "name": "python3"
    },
    "language_info": {
      "codemirror_mode": {
        "name": "ipython",
        "version": 3
      },
      "file_extension": ".py",
      "mimetype": "text/x-python",
      "name": "python",
      "nbconvert_exporter": "python",
      "pygments_lexer": "ipython3",
      "version": "3.9.15"
    }
  },
  "nbformat": 4,
  "nbformat_minor": 0
}