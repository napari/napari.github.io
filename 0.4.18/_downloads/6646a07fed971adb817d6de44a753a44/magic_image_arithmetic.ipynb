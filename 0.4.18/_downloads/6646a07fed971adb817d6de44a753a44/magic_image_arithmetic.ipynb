{
  "cells": [
    {
      "cell_type": "markdown",
      "metadata": {},
      "source": [
        "\n# magicgui Image Arithmetic\n\nBasic example of using magicgui to create an Image Arithmetic GUI in napari.\n\n.. tags:: gui\n"
      ]
    },
    {
      "cell_type": "code",
      "execution_count": null,
      "metadata": {
        "collapsed": false
      },
      "outputs": [],
      "source": [
        "import enum\n\nimport numpy as np\n\nimport napari\n\n\n# Enums are a convenient way to get a dropdown menu\nclass Operation(enum.Enum):\n    \"\"\"A set of valid arithmetic operations for image_arithmetic.\"\"\"\n\n    add = np.add\n    subtract = np.subtract\n    multiply = np.multiply\n    divide = np.divide\n\n\n# Define our image_arithmetic function.\n# Note that we can use forward references for the napari type annotations.\n# You can read more about them here:\n# https://peps.python.org/pep-0484/#forward-references\n# In this example, because we have already imported napari anyway, it doesn't\n# really matter. But this syntax would let you specify that a parameter is a\n# napari object type without actually importing or depending on napari.\n# Note: here we use `napari.types.ImageData` as our parameter annotations,\n# which means our function will be passed layer.data instead of\n# the full layer instance\ndef image_arithmetic(\n    layerA: 'napari.types.ImageData',\n    operation: Operation,\n    layerB: 'napari.types.ImageData',\n) -> 'napari.types.ImageData':\n    \"\"\"Adds, subtracts, multiplies, or divides two same-shaped image layers.\"\"\"\n    if layerA is not None and layerB is not None:\n        return operation.value(layerA, layerB)\n    return None\n\n\n# create a new viewer with a couple image layers\nviewer = napari.Viewer()\nviewer.add_image(np.random.rand(20, 20), name=\"Layer 1\")\nviewer.add_image(np.random.rand(20, 20), name=\"Layer 2\")\n\n# Add our magic function to napari\nviewer.window.add_function_widget(image_arithmetic)\n\nif __name__ == '__main__':\n    napari.run()"
      ]
    }
  ],
  "metadata": {
    "kernelspec": {
      "display_name": "Python 3",
      "language": "python",
      "name": "python3"
    },
    "language_info": {
      "codemirror_mode": {
        "name": "ipython",
        "version": 3
      },
      "file_extension": ".py",
      "mimetype": "text/x-python",
      "name": "python",
      "nbconvert_exporter": "python",
      "pygments_lexer": "ipython3",
      "version": "3.9.16"
    }
  },
  "nbformat": 4,
  "nbformat_minor": 0
}