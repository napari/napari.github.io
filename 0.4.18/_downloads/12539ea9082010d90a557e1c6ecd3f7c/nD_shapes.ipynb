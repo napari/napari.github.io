{
  "cells": [
    {
      "cell_type": "markdown",
      "metadata": {},
      "source": [
        "\n# nD shapes\n\nDisplay one 4-D image layer using the ``add_image`` API\n\n.. tags:: visualization-nD\n"
      ]
    },
    {
      "cell_type": "code",
      "execution_count": null,
      "metadata": {
        "collapsed": false
      },
      "outputs": [],
      "source": [
        "import numpy as np\nfrom skimage import data\n\nimport napari\n\nblobs = data.binary_blobs(\n    length=128, blob_size_fraction=0.05, n_dim=3, volume_fraction=0.1\n).astype(float)\n\nviewer = napari.view_image(blobs.astype(float))\n\n# create one random polygon per \"plane\"\nplanes = np.tile(np.arange(128).reshape((128, 1, 1)), (1, 5, 1))\nnp.random.seed(0)\ncorners = np.random.uniform(0, 128, size=(128, 5, 2))\nshapes = np.concatenate((planes, corners), axis=2)\n\nbase_cols = ['red', 'green', 'blue', 'white', 'yellow', 'magenta', 'cyan']\ncolors = np.random.choice(base_cols, size=128)\n\nlayer = viewer.add_shapes(\n    np.array(shapes),\n    shape_type='polygon',\n    face_color=colors,\n    name='sliced',\n)\n\nmasks = layer.to_masks(mask_shape=(128, 128, 128))\nlabels = layer.to_labels(labels_shape=(128, 128, 128))\nshape_array = np.array(layer.data)\n\nprint(\n    f'sliced: nshapes {layer.nshapes}, mask shape {masks.shape}, '\n    f'labels_shape {labels.shape}, array_shape, {shape_array.shape}'\n)\n\ncorners = np.random.uniform(0, 128, size=(2, 2))\nlayer = viewer.add_shapes(corners, shape_type='rectangle', name='broadcasted')\n\nmasks = layer.to_masks(mask_shape=(128, 128))\nlabels = layer.to_labels(labels_shape=(128, 128))\nshape_array = np.array(layer.data)\n\nprint(\n    f'broadcast: nshapes {layer.nshapes}, mask shape {masks.shape}, '\n    f'labels_shape {labels.shape}, array_shape, {shape_array.shape}'\n)\n\nif __name__ == '__main__':\n    napari.run()"
      ]
    }
  ],
  "metadata": {
    "kernelspec": {
      "display_name": "Python 3",
      "language": "python",
      "name": "python3"
    },
    "language_info": {
      "codemirror_mode": {
        "name": "ipython",
        "version": 3
      },
      "file_extension": ".py",
      "mimetype": "text/x-python",
      "name": "python",
      "nbconvert_exporter": "python",
      "pygments_lexer": "ipython3",
      "version": "3.9.16"
    }
  },
  "nbformat": 4,
  "nbformat_minor": 0
}