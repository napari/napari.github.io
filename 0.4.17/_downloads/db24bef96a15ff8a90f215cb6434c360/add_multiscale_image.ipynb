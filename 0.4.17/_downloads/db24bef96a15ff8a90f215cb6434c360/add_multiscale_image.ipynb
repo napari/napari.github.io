{
  "cells": [
    {
      "cell_type": "code",
      "execution_count": null,
      "metadata": {
        "collapsed": false
      },
      "outputs": [],
      "source": [
        "%matplotlib inline"
      ]
    },
    {
      "cell_type": "markdown",
      "metadata": {},
      "source": [
        "\n# Add multiscale image\n\nDisplays a multiscale image\n\n.. tags:: visualization-advanced\n"
      ]
    },
    {
      "cell_type": "code",
      "execution_count": null,
      "metadata": {
        "collapsed": false
      },
      "outputs": [],
      "source": [
        "from skimage import data\nfrom skimage.transform import pyramid_gaussian\nimport napari\nimport numpy as np\n\n\n# create multiscale from astronaut image\nbase = np.tile(data.astronaut(), (8, 8, 1))\nmultiscale = list(\n    pyramid_gaussian(base, downscale=2, max_layer=4, multichannel=True)\n)\nprint('multiscale level shapes: ', [p.shape[:2] for p in multiscale])\n\n# add image multiscale\nviewer = napari.view_image(multiscale, multiscale=True)\n\nif __name__ == '__main__':\n    napari.run()"
      ]
    }
  ],
  "metadata": {
    "kernelspec": {
      "display_name": "Python 3",
      "language": "python",
      "name": "python3"
    },
    "language_info": {
      "codemirror_mode": {
        "name": "ipython",
        "version": 3
      },
      "file_extension": ".py",
      "mimetype": "text/x-python",
      "name": "python",
      "nbconvert_exporter": "python",
      "pygments_lexer": "ipython3",
      "version": "3.9.15"
    }
  },
  "nbformat": 4,
  "nbformat_minor": 0
}