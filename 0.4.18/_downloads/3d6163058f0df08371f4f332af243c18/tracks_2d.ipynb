{
  "cells": [
    {
      "cell_type": "markdown",
      "metadata": {},
      "source": [
        "\n# Tracks 2D\n\n.. tags:: visualization-basic\n"
      ]
    },
    {
      "cell_type": "code",
      "execution_count": null,
      "metadata": {
        "collapsed": false
      },
      "outputs": [],
      "source": [
        "import numpy as np\n\nimport napari\n\n\ndef _circle(r, theta):\n    x = r * np.cos(theta)\n    y = r * np.sin(theta)\n    return x, y\n\n\ndef tracks_2d(num_tracks=10):\n    \"\"\" create 2d+t track data \"\"\"\n    tracks = []\n\n    for track_id in range(num_tracks):\n\n        # space to store the track data and features\n        track = np.zeros((100, 6), dtype=np.float32)\n\n        # time\n        timestamps = np.arange(track.shape[0])\n\n        radius = 20 + 30 * np.random.random()\n        theta = timestamps * 0.1 + np.random.random() * np.pi\n        x, y = _circle(radius, theta)\n\n        track[:, 0] = track_id\n        track[:, 1] = timestamps\n        track[:, 2] = 50.0 + y\n        track[:, 3] = 50.0 + x\n        track[:, 4] = theta\n        track[:, 5] = radius\n\n        tracks.append(track)\n\n    tracks = np.concatenate(tracks, axis=0)\n    data = tracks[:, :4]  # just the coordinate data\n\n    features = {\n        'time': tracks[:, 1],\n        'theta': tracks[:, 4],\n        'radius': tracks[:, 5],\n    }\n\n    graph = {}\n    return data, features, graph\n\n\ntracks, features, graph = tracks_2d(num_tracks=10)\nvertices = tracks[:, 1:]\n\nviewer = napari.Viewer()\nviewer.add_points(vertices, size=1, name='points', opacity=0.3)\nviewer.add_tracks(tracks, features=features, name='tracks')\n\nif __name__ == '__main__':\n    napari.run()"
      ]
    }
  ],
  "metadata": {
    "kernelspec": {
      "display_name": "Python 3",
      "language": "python",
      "name": "python3"
    },
    "language_info": {
      "codemirror_mode": {
        "name": "ipython",
        "version": 3
      },
      "file_extension": ".py",
      "mimetype": "text/x-python",
      "name": "python",
      "nbconvert_exporter": "python",
      "pygments_lexer": "ipython3",
      "version": "3.9.16"
    }
  },
  "nbformat": 4,
  "nbformat_minor": 0
}