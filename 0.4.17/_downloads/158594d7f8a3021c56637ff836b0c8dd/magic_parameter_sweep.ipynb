{
  "cells": [
    {
      "cell_type": "code",
      "execution_count": null,
      "metadata": {
        "collapsed": false
      },
      "outputs": [],
      "source": [
        "%matplotlib inline"
      ]
    },
    {
      "cell_type": "markdown",
      "metadata": {},
      "source": [
        "\n# magicgui parameter sweep\n\nExample showing how to accomplish a napari parameter sweep with magicgui.\n\nIt demonstrates:\n1. overriding the default widget type with a custom class\n2. the `auto_call` option, which calls the function whenever a parameter changes\n\n.. tags:: gui\n"
      ]
    },
    {
      "cell_type": "code",
      "execution_count": null,
      "metadata": {
        "collapsed": false
      },
      "outputs": [],
      "source": [
        "import skimage.data\nimport skimage.filters\nimport napari\nfrom typing_extensions import Annotated\n\n# Define our gaussian_blur function.\n# Note that we can use forward references for the napari type annotations.\n# You can read more about them here:\n# https://peps.python.org/pep-0484/#forward-references\n# In this example, because we have already imported napari anyway, it doesn't\n# really matter. But this syntax would let you specify that a parameter is a\n# napari object type without actually importing or depending on napari.\n# We also use the `Annotated` type to pass an additional dictionary that can be used\n# to aid widget generation. The keys of the dictionary are keyword arguments to\n# the corresponding magicgui widget type. For more informaiton see\n# https://napari.org/magicgui/api/widgets.html.\ndef gaussian_blur(\n    layer: 'napari.layers.Image',\n    sigma: Annotated[float, {\"widget_type\": \"FloatSlider\", \"max\": 6}] = 1.0,\n    mode: Annotated[str, {\"choices\": [\"reflect\", \"constant\", \"nearest\", \"mirror\", \"wrap\"]}]=\"nearest\",\n) -> 'napari.types.ImageData':\n    \"\"\"Apply a gaussian blur to ``layer``.\"\"\"\n    if layer:\n        return skimage.filters.gaussian(layer.data, sigma=sigma, mode=mode)\n\n\n# create a viewer and add some images\nviewer = napari.Viewer()\nviewer.add_image(skimage.data.astronaut().mean(-1), name=\"astronaut\")\nviewer.add_image(skimage.data.grass().astype(\"float\"), name=\"grass\")\n\n# Add our magic function to napari\nviewer.window.add_function_widget(gaussian_blur)\n\nif __name__ == '__main__':\n    napari.run()"
      ]
    }
  ],
  "metadata": {
    "kernelspec": {
      "display_name": "Python 3",
      "language": "python",
      "name": "python3"
    },
    "language_info": {
      "codemirror_mode": {
        "name": "ipython",
        "version": 3
      },
      "file_extension": ".py",
      "mimetype": "text/x-python",
      "name": "python",
      "nbconvert_exporter": "python",
      "pygments_lexer": "ipython3",
      "version": "3.9.15"
    }
  },
  "nbformat": 4,
  "nbformat_minor": 0
}