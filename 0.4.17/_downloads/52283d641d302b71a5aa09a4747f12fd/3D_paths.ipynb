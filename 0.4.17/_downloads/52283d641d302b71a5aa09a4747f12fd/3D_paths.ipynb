{
  "cells": [
    {
      "cell_type": "code",
      "execution_count": null,
      "metadata": {
        "collapsed": false
      },
      "outputs": [],
      "source": [
        "%matplotlib inline"
      ]
    },
    {
      "cell_type": "markdown",
      "metadata": {},
      "source": [
        "\n# 3D Paths\n\nDisplay two vectors layers ontop of a 4-D image layer. One of the vectors\nlayers is 3D and \"sliced\" with a different set of vectors appearing on\ndifferent 3D slices. Another is 2D and \"broadcast\" with the same vectors\nappearing on each slice.\n\n.. tags:: visualization-advanced, layers\n"
      ]
    },
    {
      "cell_type": "code",
      "execution_count": null,
      "metadata": {
        "collapsed": false
      },
      "outputs": [],
      "source": [
        "import numpy as np\nfrom skimage import data\nimport napari\n\n\nblobs = data.binary_blobs(\n            length=128, blob_size_fraction=0.05, n_dim=3, volume_fraction=0.05\n        )\n\nviewer = napari.Viewer(ndisplay=3)\nviewer.add_image(blobs.astype(float))\n\n# sample vector coord-like data\npath = np.array([np.array([[0, 0, 0], [0, 10, 10], [0, 5, 15], [20, 5, 15],\n    [56, 70, 21], [127, 127, 127]]),\n    np.array([[0, 0, 0], [0, 10, 10], [0, 5, 15], [0, 5, 15],\n        [0, 70, 21], [0, 127, 127]])])\n\nprint('Path', path.shape)\nlayer = viewer.add_shapes(\n    path, shape_type='path', edge_width=4, edge_color=['red', 'blue']\n)\n\nif __name__ == '__main__':\n    napari.run()"
      ]
    }
  ],
  "metadata": {
    "kernelspec": {
      "display_name": "Python 3",
      "language": "python",
      "name": "python3"
    },
    "language_info": {
      "codemirror_mode": {
        "name": "ipython",
        "version": 3
      },
      "file_extension": ".py",
      "mimetype": "text/x-python",
      "name": "python",
      "nbconvert_exporter": "python",
      "pygments_lexer": "ipython3",
      "version": "3.9.15"
    }
  },
  "nbformat": 4,
  "nbformat_minor": 0
}