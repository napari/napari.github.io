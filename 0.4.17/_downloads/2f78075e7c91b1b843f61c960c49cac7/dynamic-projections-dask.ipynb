{
  "cells": [
    {
      "cell_type": "code",
      "execution_count": null,
      "metadata": {
        "collapsed": false
      },
      "outputs": [],
      "source": [
        "%matplotlib inline"
      ]
    },
    {
      "cell_type": "markdown",
      "metadata": {},
      "source": [
        "\n# Dynamic projections dask\n\nUsing dask array operations, one can dynamically take arbitrary slices\nand computations of a source dask array and display the results in napari.\nWhen the computation takes one or more parameters, one can tie a UI to\nthem using magicgui.\n\n.. tags:: visualization-advanced\n"
      ]
    },
    {
      "cell_type": "code",
      "execution_count": null,
      "metadata": {
        "collapsed": false
      },
      "outputs": [],
      "source": [
        "import numpy as np\nimport napari\nimport dask.array as da\nfrom dask.array.lib.stride_tricks import sliding_window_view\nfrom skimage import data"
      ]
    },
    {
      "cell_type": "markdown",
      "metadata": {},
      "source": [
        "Part 1: using code to view a specific value.\n\n"
      ]
    },
    {
      "cell_type": "code",
      "execution_count": null,
      "metadata": {
        "collapsed": false
      },
      "outputs": [],
      "source": [
        "blobs = data.binary_blobs(length=64, n_dim=3)\nblobs_dask = da.from_array(blobs, chunks=(1, 64, 64))\n\n# original shape [60, 1, 1, 5, 64, 64],\n# use squeeze to remove singleton axes\nblobs_dask_windows = np.squeeze(\n    sliding_window_view(blobs_dask, window_shape=(5, 64, 64)),\n    axis=(1, 2),\n)\nblobs_sum = np.sum(blobs_dask_windows, axis=1)\nviewer = napari.view_image(blobs_sum)\n\nif __name__ == '__main__':\n    napari.run()"
      ]
    },
    {
      "cell_type": "markdown",
      "metadata": {},
      "source": [
        "Part 2: using magicgui to vary the slice thickness.\n\n"
      ]
    },
    {
      "cell_type": "code",
      "execution_count": null,
      "metadata": {
        "collapsed": false
      },
      "outputs": [],
      "source": [
        "from magicgui import magicgui\n\ndef sliding_window_mean(\n    arr: napari.types.ImageData, size: int = 1\n) -> napari.types.LayerDataTuple:\n    window_shape = (size,) + (arr.shape[1:])\n    arr_windows = sliding_window_view(arr, window_shape=window_shape)\n    # as before, use squeeze to remove singleton axes\n    arr_windows_1d = np.squeeze(\n        arr_windows, axis=tuple(range(1, arr.ndim))\n    )\n    arr_summed = np.sum(arr_windows_1d, axis=1) / size\n    return (\n        arr_summed,\n        {\n            'translate': (size // 2,) + (0,) * (arr.ndim - 1),\n            'name': 'mean-window',\n            'colormap': 'magenta',\n            'blending': 'additive',\n        },\n        'image',\n    )\n\n\nviewer = napari.view_image(blobs_dask, colormap='green')\nviewer.window.add_dock_widget(magicgui(sliding_window_mean, auto_call=True))\nviewer.dims.current_step = (32, 0, 0)\n\nif __name__ == '__main__':\n    napari.run()"
      ]
    }
  ],
  "metadata": {
    "kernelspec": {
      "display_name": "Python 3",
      "language": "python",
      "name": "python3"
    },
    "language_info": {
      "codemirror_mode": {
        "name": "ipython",
        "version": 3
      },
      "file_extension": ".py",
      "mimetype": "text/x-python",
      "name": "python",
      "nbconvert_exporter": "python",
      "pygments_lexer": "ipython3",
      "version": "3.9.15"
    }
  },
  "nbformat": 4,
  "nbformat_minor": 0
}