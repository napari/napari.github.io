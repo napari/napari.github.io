{
  "cells": [
    {
      "cell_type": "code",
      "execution_count": null,
      "metadata": {
        "collapsed": false
      },
      "outputs": [],
      "source": [
        "%matplotlib inline"
      ]
    },
    {
      "cell_type": "markdown",
      "metadata": {},
      "source": [
        "\n# Cursor ray\n\nDepict a ray through a layer in 3D to demonstrate interactive 3D functionality\n\n.. tags:: interactivity\n"
      ]
    },
    {
      "cell_type": "code",
      "execution_count": null,
      "metadata": {
        "collapsed": false
      },
      "outputs": [],
      "source": [
        "import numpy as np\nimport napari\n\nsidelength_data = 64\nn_points = 10\n\n# data to depict an empty volume, its bounding box and points along a ray\n# through the volume\nvolume = np.zeros(shape=(sidelength_data, sidelength_data, sidelength_data))\nbounding_box = np.array(\n    [\n        [0, 0, 0],\n        [1, 0, 0],\n        [0, 1, 0],\n        [1, 1, 0],\n        [0, 0, 1],\n        [1, 0, 1],\n        [0, 1, 1],\n        [1, 1, 1],\n    ]\n) * sidelength_data\npoints = np.zeros(shape=(n_points, 3))\n\n# point sizes\npoint_sizes = np.linspace(0.5, 2, n_points, endpoint=True)\n\n# point colors\ngreen = [0, 1, 0, 1]\nmagenta = [1, 0, 1, 1]\npoint_colors = np.linspace(green, magenta, n_points, endpoint=True)\n\n# create viewer and add layers for each piece of data\nviewer = napari.Viewer(ndisplay=3)\nbounding_box_layer = viewer.add_points(\n    bounding_box, face_color='cornflowerblue', name='bounding box'\n)\nray_layer = viewer.add_points(\n    points, face_color=point_colors, size=point_sizes, name='cursor ray'\n)\nvolume_layer = viewer.add_image(volume, blending='additive')\n\n\n# callback function, called on mouse click when volume layer is active\n@volume_layer.mouse_drag_callbacks.append\ndef on_click(layer, event):\n    near_point, far_point = layer.get_ray_intersections(\n        event.position,\n        event.view_direction,\n        event.dims_displayed\n    )\n    if (near_point is not None) and (far_point is not None):\n        ray_points = np.linspace(near_point, far_point, n_points, endpoint=True)\n        if ray_points.shape[1] != 0:\n            ray_layer.data = ray_points\n\n\nif __name__ == '__main__':\n    napari.run()"
      ]
    }
  ],
  "metadata": {
    "kernelspec": {
      "display_name": "Python 3",
      "language": "python",
      "name": "python3"
    },
    "language_info": {
      "codemirror_mode": {
        "name": "ipython",
        "version": 3
      },
      "file_extension": ".py",
      "mimetype": "text/x-python",
      "name": "python",
      "nbconvert_exporter": "python",
      "pygments_lexer": "ipython3",
      "version": "3.9.15"
    }
  },
  "nbformat": 4,
  "nbformat_minor": 0
}