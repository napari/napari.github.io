{
  "cells": [
    {
      "cell_type": "markdown",
      "metadata": {},
      "source": [
        "\n# Custom image interpolation kernels\n\nWhen interpolation is set to 'custom', the convolution kernel provided by\n`custom_interpolation_kernel_2d` is used to convolve the image on the gpu.\nIn this example, we use custom gaussian kernels of arbitrary size, a sharpening\nkernel and a ridge detection kernel.\n\nUnder the hood, this works by by sampling the image texture with `linear`\ninterpolation in a regular grid (of size = of the kernel) around each fragment,\nand then using the weights in the kernel to add up the final fragment value.\n\n.. tags:: gui, visualization-nD\n"
      ]
    },
    {
      "cell_type": "code",
      "execution_count": null,
      "metadata": {
        "collapsed": false
      },
      "outputs": [],
      "source": [
        "import numpy as np\nfrom magicgui import magicgui\nfrom scipy.signal.windows import gaussian\nfrom skimage import data\n\nimport napari\n\nviewer = napari.view_image(data.astronaut(), rgb=True, interpolation='custom')\n\n\ndef gaussian_kernel(size, sigma):\n    window = gaussian(size, sigma)\n    kernel = np.outer(window, window)\n    return kernel / kernel.sum()\n\n\ndef sharpen_kernel():\n    return np.array([\n        [ 0, -1,  0],\n        [-1,  5, -1],\n        [ 0, -1,  0],\n    ])\n\n\ndef ridge_detection_kernel():\n    return np.array([\n        [-1, -1, -1],\n        [-1,  9, -1],\n        [-1, -1, -1],\n    ])\n\n\n@magicgui(\n    auto_call=True,\n    kernel_size={\"widget_type\": 'Slider', \"min\": 1, \"max\": 20},\n    sigma={\"widget_type\": 'FloatSlider', \"min\": 0.1, \"max\": 5, \"step\": 0.1},\n    kernel_type={\"choices\": ['none', 'gaussian', 'sharpen', 'ridge_detection']},\n)\ndef gpu_kernel(image: napari.layers.Image, kernel_type: str = 'gaussian', kernel_size: int = 5, sigma: float = 1):\n    if kernel_type == 'none':\n        image.interpolation2d = 'linear'\n    else:\n        image.interpolation2d = 'custom'\n\n    if kernel_type == 'gaussian':\n        gpu_kernel.kernel_size.show()\n        gpu_kernel.sigma.show()\n    else:\n        gpu_kernel.kernel_size.hide()\n        gpu_kernel.sigma.hide()\n\n    if kernel_type == 'gaussian':\n        image.custom_interpolation_kernel_2d = gaussian_kernel(kernel_size, sigma)\n    elif kernel_type == 'sharpen':\n        image.custom_interpolation_kernel_2d = sharpen_kernel()\n    elif kernel_type == 'ridge_detection':\n        image.custom_interpolation_kernel_2d = ridge_detection_kernel()\n\n\nviewer.window.add_dock_widget(gpu_kernel)\ngpu_kernel()\n\n\nif __name__ == '__main__':\n    napari.run()"
      ]
    }
  ],
  "metadata": {
    "kernelspec": {
      "display_name": "Python 3",
      "language": "python",
      "name": "python3"
    },
    "language_info": {
      "codemirror_mode": {
        "name": "ipython",
        "version": 3
      },
      "file_extension": ".py",
      "mimetype": "text/x-python",
      "name": "python",
      "nbconvert_exporter": "python",
      "pygments_lexer": "ipython3",
      "version": "3.9.16"
    }
  },
  "nbformat": 4,
  "nbformat_minor": 0
}