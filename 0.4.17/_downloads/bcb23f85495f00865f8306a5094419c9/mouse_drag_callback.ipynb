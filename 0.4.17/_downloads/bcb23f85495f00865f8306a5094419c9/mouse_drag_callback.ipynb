{
  "cells": [
    {
      "cell_type": "code",
      "execution_count": null,
      "metadata": {
        "collapsed": false
      },
      "outputs": [],
      "source": [
        "%matplotlib inline"
      ]
    },
    {
      "cell_type": "markdown",
      "metadata": {},
      "source": [
        "\n# Mouse drag callback\n\nExample updating the status bar with line profile info while dragging\nlines around in a shapes layer.\n\n.. tags:: gui\n"
      ]
    },
    {
      "cell_type": "code",
      "execution_count": null,
      "metadata": {
        "collapsed": false
      },
      "outputs": [],
      "source": [
        "from skimage import data\nfrom skimage import measure\nimport numpy as np\nimport napari\n\n\ndef profile_lines(image, shape_layer):\n    profile_data = [\n        measure.profile_line(image, line[0], line[1], mode='reflect').mean()\n        for line in shape_layer.data\n    ]\n    print(f\"profile means: [{', '.join(f'{d:.2f}' for d in profile_data)}]\")\n\n\nnp.random.seed(1)\nviewer = napari.Viewer()\nblobs = data.binary_blobs(length=512, volume_fraction=0.1, n_dim=2)\nviewer.add_image(blobs, name='blobs')\nline1 = np.array([[11, 13], [111, 113]])\nline2 = np.array([[200, 200], [400, 300]])\nlines = [line1, line2]\nshapes_layer = viewer.add_shapes(\n    lines,\n    shape_type='line',\n    edge_width=5,\n    edge_color='coral',\n    face_color='royalblue',\n)\nshapes_layer.mode = 'select'\n\n\n@shapes_layer.mouse_drag_callbacks.append\ndef profile_lines_drag(layer, event):\n    profile_lines(blobs, layer)\n    yield\n    while event.type == 'mouse_move':\n        profile_lines(blobs, layer)\n        # the yield statement allows the mouse UI to keep working while\n        # this loop is executed repeatedly\n        yield\n\n\nif __name__ == '__main__':\n    napari.run()"
      ]
    }
  ],
  "metadata": {
    "kernelspec": {
      "display_name": "Python 3",
      "language": "python",
      "name": "python3"
    },
    "language_info": {
      "codemirror_mode": {
        "name": "ipython",
        "version": 3
      },
      "file_extension": ".py",
      "mimetype": "text/x-python",
      "name": "python",
      "nbconvert_exporter": "python",
      "pygments_lexer": "ipython3",
      "version": "3.9.15"
    }
  },
  "nbformat": 4,
  "nbformat_minor": 0
}