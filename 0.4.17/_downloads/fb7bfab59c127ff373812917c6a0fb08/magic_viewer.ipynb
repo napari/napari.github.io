{
  "cells": [
    {
      "cell_type": "code",
      "execution_count": null,
      "metadata": {
        "collapsed": false
      },
      "outputs": [],
      "source": [
        "%matplotlib inline"
      ]
    },
    {
      "cell_type": "markdown",
      "metadata": {},
      "source": [
        "\n# magicgui viewer\n\nExample showing how to access the current viewer from a function widget.\n\n.. tags:: gui\n"
      ]
    },
    {
      "cell_type": "code",
      "execution_count": null,
      "metadata": {
        "collapsed": false
      },
      "outputs": [],
      "source": [
        "import napari\n\n# annotating a paramater as `napari.Viewer` will automatically provide\n# the viewer that the function is embedded in, when the function is added to\n# the viewer with add_function_widget.\ndef my_function(viewer: napari.Viewer):\n    print(viewer, f\"with {len(viewer.layers)} layers\")\n\n\nviewer = napari.Viewer()\n# Add our magic function to napari\nviewer.window.add_function_widget(my_function)\n\nif __name__ == '__main__':\n    napari.run()"
      ]
    }
  ],
  "metadata": {
    "kernelspec": {
      "display_name": "Python 3",
      "language": "python",
      "name": "python3"
    },
    "language_info": {
      "codemirror_mode": {
        "name": "ipython",
        "version": 3
      },
      "file_extension": ".py",
      "mimetype": "text/x-python",
      "name": "python",
      "nbconvert_exporter": "python",
      "pygments_lexer": "ipython3",
      "version": "3.9.15"
    }
  },
  "nbformat": 4,
  "nbformat_minor": 0
}