{
  "cells": [
    {
      "cell_type": "markdown",
      "metadata": {},
      "source": [
        "\n# Fourier transform playground\n\nGenerate an image by adding arbitrary 2D sine waves and observe\nhow the fourier transform's real and imaginary components are affected\nby the changes. Threading is used to smoothly animate the waves.\n\n.. tags:: interactivity, gui\n"
      ]
    },
    {
      "cell_type": "code",
      "execution_count": null,
      "metadata": {
        "collapsed": false
      },
      "outputs": [],
      "source": [
        "from time import sleep, time\n\nimport numpy as np\nfrom magicgui import magic_factory\nfrom scipy.fft import fft2, fftshift\n\nimport napari\nfrom napari.qt.threading import thread_worker\n\nIMAGE_SIZE = 100\nFPS = 20\n\n# meshgrid used to calculate the 2D sine waves\nx = np.arange(IMAGE_SIZE) - IMAGE_SIZE / 2\nX, Y = np.meshgrid(x, x)\n\n\ndef wave_2d(frequency, angle, phase_shift):\n    \"\"\"Generate a 2D sine wave based on angle, frequency and phase shift.\"\"\"\n    angle = np.deg2rad(angle)\n    phase_shift = np.deg2rad(phase_shift)\n    wave = 2 * np.pi * (X * np.cos(angle) + Y * np.sin(angle)) * frequency\n    return np.sin(wave + phase_shift)\n\n\n# set up viewer with grid-mode enabled\nviewer = napari.Viewer()\nviewer.grid.enabled = True\n\n\ndef update_layer(name, data, **kwargs):\n    \"\"\"Update a layer in the viewer with new data.\n\n    If data is None, then the layer is removed.\n    If the layer is not present, it's added to the viewer.\n    \"\"\"\n    if data is None:\n        if name in viewer.layers:\n            viewer.layers.pop(name)\n        viewer.reset_view()\n    elif name not in viewer.layers:\n        viewer.add_image(data, name=name, interpolation2d='spline36', **kwargs)\n        viewer.reset_view()\n    else:\n        viewer.layers[name].data = data\n\n\ndef combine_and_set_data(wave_args):\n    \"\"\"Merge 2D waves, calculate the FT and update the viewer.\n\n    The wave phases are offset by the current time multiplied by an\n    arbitrary speed value; this generates an animated wave if called repeatedly.\n    \"\"\"\n    if not wave_args:\n        # this happens on yielding from the thread, no need to update anything\n        return\n\n    t = time()\n    waves = {\n        wave_id: wave_2d(frequency, angle, phase_shift + t * speed * 100) if frequency else None\n        for wave_id, (frequency, angle, phase_shift, speed) in wave_args.items()\n    }\n\n    to_add = [d for d in waves.values() if d is not None]\n    if to_add:\n        mean = np.mean(to_add, axis=0)\n        ft = fftshift(fft2(mean))\n        power_spectrum = abs(ft)\n        phase = np.angle(ft) * power_spectrum\n        power_spectrum = np.log10(power_spectrum + 10)\n    else:\n        mean = power_spectrum = phase = None\n\n    # for visualisation, it's clearer to use:\n    # phase * ps instead of phase\n    # and log10(ps + 1) instead of ps\n    update_layer('phase * power_spectrum', phase, colormap=('blue', 'black', 'red'))\n    update_layer('log10(power_spectrum + 1)', power_spectrum)\n    update_layer('mean', mean)\n\n    for name, data in waves.items():\n        update_layer(f'wave {name}', data)\n\n\n@thread_worker(connect={\"yielded\": combine_and_set_data})\ndef update_viewer():\n    # keep track of each wave in a dictionary by id, this way we can modify/remove\n    # existing waves or add new ones\n    wave_args = {}\n    new_params = None\n    while True:\n        sleep(1 / FPS)\n        # see https://napari.org/stable/guides/threading.html#full-two-way-communication\n        # this receives new_params from thread.send() and yields {} for the `yielded` callback\n        new_params = yield wave_args\n        if new_params is not None:\n            # note that these come from thread.send() in moving_wave()!\n            wave_id, *args = new_params\n            wave_args[wave_id] = args\n        yield wave_args\n\n\n# start the thread responsible for updating the viewer\nthread = update_viewer()\n\n\n@magic_factory(\n    auto_call=True,\n    frequency={'widget_type': 'FloatSlider', 'min': 0, 'max': 1, 'step': 0.01},\n    angle={'widget_type': 'Slider', 'min': 0, 'max': 180},\n    phase_shift={'widget_type': 'Slider', 'min': 0, 'max': 180},\n    speed={'widget_type': 'FloatSlider', 'min': -10, 'max': 10, 'step': 0.1},\n)\ndef moving_wave(\n    wave_id: int = 0,\n    frequency: float = 0.2,\n    angle: int = 0,\n    phase_shift: int = 0,\n    speed: float = 1,\n    run=True,\n):\n    \"\"\"Send new parameters to the listening thread to update the 2D waves.\n\n    The `run` checkbox can be disabled to stop sending values to the thread\n    while changing parameters.\n    \"\"\"\n    if run:\n        thread.send((wave_id, frequency, angle, phase_shift, speed))\n\n\nwdg = moving_wave()\n\n# add the widget to the window and run it once\nviewer.window.add_dock_widget(wdg, area='bottom')\nwdg()\n\nnapari.run()\n\nthread.quit()"
      ]
    }
  ],
  "metadata": {
    "kernelspec": {
      "display_name": "Python 3",
      "language": "python",
      "name": "python3"
    },
    "language_info": {
      "codemirror_mode": {
        "name": "ipython",
        "version": 3
      },
      "file_extension": ".py",
      "mimetype": "text/x-python",
      "name": "python",
      "nbconvert_exporter": "python",
      "pygments_lexer": "ipython3",
      "version": "3.9.16"
    }
  },
  "nbformat": 4,
  "nbformat_minor": 0
}