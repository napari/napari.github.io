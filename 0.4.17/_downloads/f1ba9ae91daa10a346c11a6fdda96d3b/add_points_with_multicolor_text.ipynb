{
  "cells": [
    {
      "cell_type": "code",
      "execution_count": null,
      "metadata": {
        "collapsed": false
      },
      "outputs": [],
      "source": [
        "%matplotlib inline"
      ]
    },
    {
      "cell_type": "markdown",
      "metadata": {},
      "source": [
        "\n# Add points with multicolor text\n\nDisplay a points layer on top of an image layer with text using\nmultiple face colors mapped from features for the points and text.\n\n.. tags:: visualization-basic\n"
      ]
    },
    {
      "cell_type": "code",
      "execution_count": null,
      "metadata": {
        "collapsed": false
      },
      "outputs": [],
      "source": [
        "import numpy as np\nimport napari\n\n# add the image with three points\nviewer = napari.view_image(np.zeros((400, 400)))\npoints = np.array([[100, 100], [200, 300], [333, 111]])\n\n# create features for each point\nfeatures = {\n    'confidence': np.array([1, 0.5, 0]),\n    'good_point': np.array([True, False, False]),\n}\n\n# define the color cycle for the points face and text colors\ncolor_cycle = ['blue', 'green']\n\ntext = {\n    'string': 'Confidence is {confidence:.2f}',\n    'size': 20,\n    'color': {'feature': 'good_point', 'colormap': color_cycle},\n    'translation': np.array([-30, 0]),\n}\n\n# create a points layer where the face_color is set by the good_point feature\n# and the edge_color is set via a color map (grayscale) on the confidence\n# feature\npoints_layer = viewer.add_points(\n    points,\n    features=features,\n    text=text,\n    size=20,\n    edge_width=7,\n    edge_width_is_relative=False,\n    edge_color='confidence',\n    edge_colormap='gray',\n    face_color='good_point',\n    face_color_cycle=color_cycle,\n)\n\n# set the edge_color mode to colormap\npoints_layer.edge_color_mode = 'colormap'\n\nif __name__ == '__main__':\n    napari.run()"
      ]
    }
  ],
  "metadata": {
    "kernelspec": {
      "display_name": "Python 3",
      "language": "python",
      "name": "python3"
    },
    "language_info": {
      "codemirror_mode": {
        "name": "ipython",
        "version": 3
      },
      "file_extension": ".py",
      "mimetype": "text/x-python",
      "name": "python",
      "nbconvert_exporter": "python",
      "pygments_lexer": "ipython3",
      "version": "3.9.15"
    }
  },
  "nbformat": 4,
  "nbformat_minor": 0
}