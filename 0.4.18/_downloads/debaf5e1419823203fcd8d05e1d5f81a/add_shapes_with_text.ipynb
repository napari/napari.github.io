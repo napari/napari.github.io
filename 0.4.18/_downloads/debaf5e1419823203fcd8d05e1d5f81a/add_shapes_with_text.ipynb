{
  "cells": [
    {
      "cell_type": "markdown",
      "metadata": {},
      "source": [
        "\n# Add shapes with text\n\nDisplay one shapes layer ontop of one image layer using the ``add_shapes`` and\n``add_image`` APIs. When the window is closed it will print the coordinates of\nyour shapes.\n\n.. tags:: visualization-basic\n"
      ]
    },
    {
      "cell_type": "code",
      "execution_count": null,
      "metadata": {
        "collapsed": false
      },
      "outputs": [],
      "source": [
        "import numpy as np\nfrom skimage import data\n\nimport napari\n\n# add the image\nviewer = napari.view_image(data.camera(), name='photographer')\n\n# create a list of polygons\npolygons = [\n    np.array([[225, 146], [283, 146], [283, 211], [225, 211]]),\n    np.array([[67, 182], [167, 182], [167, 268], [67, 268]]),\n    np.array([[111, 336], [220, 336], [220, 240], [111, 240]]),\n]\n\n# create features\nfeatures = {\n    'likelihood': [21.23423, 51.2315, 100],\n    'class': ['hand', 'face', 'camera'],\n}\nedge_color_cycle = ['blue', 'magenta', 'green']\n\ntext = {\n    'string': '{class}: {likelihood:0.1f}%',\n    'anchor': 'upper_left',\n    'translation': [-5, 0],\n    'size': 8,\n    'color': 'green',\n}\n\n# add polygons\nshapes_layer = viewer.add_shapes(\n    polygons,\n    features=features,\n    shape_type='polygon',\n    edge_width=3,\n    edge_color='class',\n    edge_color_cycle=edge_color_cycle,\n    face_color='transparent',\n    text=text,\n    name='shapes',\n)\n\n# change some attributes of the layer\nshapes_layer.opacity = 1\n\n# To save layers to svg:\n# viewer.layers.save('viewer.svg', plugin='svg')\n\nif __name__ == '__main__':\n    napari.run()"
      ]
    }
  ],
  "metadata": {
    "kernelspec": {
      "display_name": "Python 3",
      "language": "python",
      "name": "python3"
    },
    "language_info": {
      "codemirror_mode": {
        "name": "ipython",
        "version": 3
      },
      "file_extension": ".py",
      "mimetype": "text/x-python",
      "name": "python",
      "nbconvert_exporter": "python",
      "pygments_lexer": "ipython3",
      "version": "3.9.16"
    }
  },
  "nbformat": 4,
  "nbformat_minor": 0
}