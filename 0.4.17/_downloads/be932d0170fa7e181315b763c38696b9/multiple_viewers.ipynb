{
  "cells": [
    {
      "cell_type": "code",
      "execution_count": null,
      "metadata": {
        "collapsed": false
      },
      "outputs": [],
      "source": [
        "%matplotlib inline"
      ]
    },
    {
      "cell_type": "markdown",
      "metadata": {},
      "source": [
        "\n# Multiple viewers\n\nCreate multiple viewers from the same script\n\n.. tags:: gui\n"
      ]
    },
    {
      "cell_type": "code",
      "execution_count": null,
      "metadata": {
        "collapsed": false
      },
      "outputs": [],
      "source": [
        "from skimage import data\nimport napari\n\n\n# add the image\nphotographer = data.camera()\nviewer_a = napari.view_image(photographer, name='photographer')\n\n# add the image in a new viewer window\nastronaut = data.astronaut()\n# Also view_path, view_shapes, view_points, view_labels etc.\nviewer_b = napari.view_image(astronaut, name='astronaut')\n\nif __name__ == '__main__':\n    napari.run()"
      ]
    }
  ],
  "metadata": {
    "kernelspec": {
      "display_name": "Python 3",
      "language": "python",
      "name": "python3"
    },
    "language_info": {
      "codemirror_mode": {
        "name": "ipython",
        "version": 3
      },
      "file_extension": ".py",
      "mimetype": "text/x-python",
      "name": "python",
      "nbconvert_exporter": "python",
      "pygments_lexer": "ipython3",
      "version": "3.9.15"
    }
  },
  "nbformat": 4,
  "nbformat_minor": 0
}