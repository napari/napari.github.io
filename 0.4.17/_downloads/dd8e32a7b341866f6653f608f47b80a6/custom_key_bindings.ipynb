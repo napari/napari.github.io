{
  "cells": [
    {
      "cell_type": "code",
      "execution_count": null,
      "metadata": {
        "collapsed": false
      },
      "outputs": [],
      "source": [
        "%matplotlib inline"
      ]
    },
    {
      "cell_type": "markdown",
      "metadata": {},
      "source": [
        "\n# Custom key bindings\n\nDisplay one 4-D image layer using the ``add_image`` API\n\n.. tags:: gui\n"
      ]
    },
    {
      "cell_type": "code",
      "execution_count": null,
      "metadata": {
        "collapsed": false
      },
      "outputs": [],
      "source": [
        "from skimage import data\nimport napari\n\n\nblobs = data.binary_blobs(\n    length=128, blob_size_fraction=0.05, n_dim=2, volume_fraction=0.25\n).astype(float)\n\nviewer = napari.view_image(blobs, name='blobs')\n\n\n@viewer.bind_key('a')\ndef accept_image(viewer):\n    msg = 'this is a good image'\n    viewer.status = msg\n    print(msg)\n    next(viewer)\n\n\n@viewer.bind_key('r')\ndef reject_image(viewer):\n    msg = 'this is a bad image'\n    viewer.status = msg\n    print(msg)\n    next(viewer)\n\n\ndef next(viewer):\n    blobs = data.binary_blobs(\n        length=128, blob_size_fraction=0.05, n_dim=2, volume_fraction=0.25\n    ).astype(float)\n    viewer.layers[0].data = blobs\n\n\n@napari.Viewer.bind_key('w')\ndef hello(viewer):\n    # on press\n    viewer.status = 'hello world!'\n\n    yield\n\n    # on release\n    viewer.status = 'goodbye world :('\n\n\n# change viewer title\nviewer.title = 'quality control images'\n\nif __name__ == '__main__':\n    napari.run()"
      ]
    }
  ],
  "metadata": {
    "kernelspec": {
      "display_name": "Python 3",
      "language": "python",
      "name": "python3"
    },
    "language_info": {
      "codemirror_mode": {
        "name": "ipython",
        "version": 3
      },
      "file_extension": ".py",
      "mimetype": "text/x-python",
      "name": "python",
      "nbconvert_exporter": "python",
      "pygments_lexer": "ipython3",
      "version": "3.9.15"
    }
  },
  "nbformat": 4,
  "nbformat_minor": 0
}