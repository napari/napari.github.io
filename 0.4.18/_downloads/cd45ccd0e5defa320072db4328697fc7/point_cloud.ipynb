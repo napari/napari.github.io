{
  "cells": [
    {
      "cell_type": "markdown",
      "metadata": {},
      "source": [
        "\n# Point cloud\n\nDisplay 3D points with combinations of different renderings.\n\n.. tags:: visualization-basic\n"
      ]
    },
    {
      "cell_type": "code",
      "execution_count": null,
      "metadata": {
        "collapsed": false
      },
      "outputs": [],
      "source": [
        "import numpy as np\n\nimport napari\n\nn_points = 100\n\npoints = np.random.normal(10, 100, (n_points, 3))\nsymbols = np.random.choice(['o', 's', '*'], n_points)\nsizes = np.random.rand(n_points) * 10 + 10\ncolors = np.random.rand(n_points, 3)\n\nviewer = napari.Viewer(ndisplay=3)\nviewer.add_points(points, symbol=symbols, size=sizes, face_color=colors)\n\nif __name__ == '__main__':\n    napari.run()"
      ]
    }
  ],
  "metadata": {
    "kernelspec": {
      "display_name": "Python 3",
      "language": "python",
      "name": "python3"
    },
    "language_info": {
      "codemirror_mode": {
        "name": "ipython",
        "version": 3
      },
      "file_extension": ".py",
      "mimetype": "text/x-python",
      "name": "python",
      "nbconvert_exporter": "python",
      "pygments_lexer": "ipython3",
      "version": "3.9.16"
    }
  },
  "nbformat": 4,
  "nbformat_minor": 0
}