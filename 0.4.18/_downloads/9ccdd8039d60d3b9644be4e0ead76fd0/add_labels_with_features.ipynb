{
  "cells": [
    {
      "cell_type": "markdown",
      "metadata": {},
      "source": [
        "\n# Add labels with features\n\nDisplay a labels layer with various features\n\n.. tags:: layers, analysis\n"
      ]
    },
    {
      "cell_type": "code",
      "execution_count": null,
      "metadata": {
        "collapsed": false
      },
      "outputs": [],
      "source": [
        "import numpy as np\nfrom skimage import data\nfrom skimage.filters import threshold_otsu\nfrom skimage.measure import label\nfrom skimage.morphology import closing, remove_small_objects, square\nfrom skimage.segmentation import clear_border\n\nimport napari\n\nimage = data.coins()[50:-50, 50:-50]\n\n# apply threshold\nthresh = threshold_otsu(image)\nbw = closing(image > thresh, square(4))\n\n# remove artifacts connected to image border\ncleared = remove_small_objects(clear_border(bw), 20)\n\n# label image regions\nlabel_image = label(cleared)\n\n# initialise viewer with coins image\nviewer = napari.view_image(image, name='coins', rgb=False)\n\n# get the size of each coin (first element is background area)\nlabel_areas = np.bincount(label_image.ravel())[1:]\n\n# split coins into small or large\nsize_range = max(label_areas) - min(label_areas)\nsmall_threshold = min(label_areas) + (size_range / 2)\ncoin_sizes = np.where(label_areas > small_threshold, 'large', 'small')\n\nlabel_features = {\n    'row': ['none']\n    + ['top'] * 4\n    + ['bottom'] * 4,  # background is row: none\n    'size': [\"none\", *coin_sizes],  # background is size: none\n}\n\ncolor = {1: 'white', 2: 'blue', 3: 'green', 4: 'red', 5: 'yellow'}\n\n# add the labels\nlabel_layer = viewer.add_labels(\n    label_image,\n    name='segmentation',\n    features=label_features,\n    color=color,\n)\n\nif __name__ == '__main__':\n    napari.run()"
      ]
    }
  ],
  "metadata": {
    "kernelspec": {
      "display_name": "Python 3",
      "language": "python",
      "name": "python3"
    },
    "language_info": {
      "codemirror_mode": {
        "name": "ipython",
        "version": 3
      },
      "file_extension": ".py",
      "mimetype": "text/x-python",
      "name": "python",
      "nbconvert_exporter": "python",
      "pygments_lexer": "ipython3",
      "version": "3.9.16"
    }
  },
  "nbformat": 4,
  "nbformat_minor": 0
}