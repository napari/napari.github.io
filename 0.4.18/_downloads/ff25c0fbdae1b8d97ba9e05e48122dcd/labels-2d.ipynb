{
  "cells": [
    {
      "cell_type": "markdown",
      "metadata": {},
      "source": [
        "\n# Labels 2D\n\nDisplay a labels layer above of an image layer using the ``add_labels`` and\n``add_image`` APIs\n\n.. tags:: visualization-basic\n"
      ]
    },
    {
      "cell_type": "code",
      "execution_count": null,
      "metadata": {
        "collapsed": false
      },
      "outputs": [],
      "source": [
        "from skimage import data\nfrom skimage.color import rgb2gray\nfrom skimage.segmentation import slic\n\nimport napari\n\nastro = data.astronaut()\n\n# initialise viewer with astro image\nviewer = napari.view_image(rgb2gray(astro), name='astronaut', rgb=False)\n\n# add the labels\n# we add 1 because SLIC returns labels from 0, which we consider background\nlabels = slic(astro, channel_axis=-1, compactness=20) + 1\nlabel_layer = viewer.add_labels(labels, name='segmentation')\n\n# Set the labels layer mode to picker with a string\nlabel_layer.mode = 'PICK'\nprint(f'The color of label 5 is {label_layer.get_color(5)}')\n\nif __name__ == '__main__':\n    napari.run()"
      ]
    }
  ],
  "metadata": {
    "kernelspec": {
      "display_name": "Python 3",
      "language": "python",
      "name": "python3"
    },
    "language_info": {
      "codemirror_mode": {
        "name": "ipython",
        "version": 3
      },
      "file_extension": ".py",
      "mimetype": "text/x-python",
      "name": "python",
      "nbconvert_exporter": "python",
      "pygments_lexer": "ipython3",
      "version": "3.9.16"
    }
  },
  "nbformat": 4,
  "nbformat_minor": 0
}