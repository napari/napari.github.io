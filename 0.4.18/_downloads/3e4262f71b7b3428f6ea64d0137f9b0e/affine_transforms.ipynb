{
  "cells": [
    {
      "cell_type": "markdown",
      "metadata": {},
      "source": [
        "\n# Affine transforms\n\nDisplay an image and its corners before and after an affine transform\n\n.. tags:: visualization-advanced\n"
      ]
    },
    {
      "cell_type": "code",
      "execution_count": null,
      "metadata": {
        "collapsed": false
      },
      "outputs": [],
      "source": [
        "import numpy as np\nimport scipy.ndimage as ndi\n\nimport napari\n\n# Create a random image\nimage = np.random.random((5, 5))\n\n# Define an affine transform\naffine = np.array([[1, -1, 4], [2, 3, 2], [0, 0, 1]])\n\n# Define the corners of the image, including in homogeneous space\ncorners = np.array([[0, 0], [4, 0], [0, 4], [4, 4]])\ncorners_h = np.concatenate([corners, np.ones((4, 1))], axis=1)\n\nviewer = napari.Viewer()\n\n# Add the original image and its corners\nviewer.add_image(image, name='background', colormap='red', opacity=.5)\nviewer.add_points(corners_h[:, :-1], size=0.5, opacity=.5, face_color=[0.8, 0, 0, 0.8], name='bg corners')\n\n# Add another copy of the image, now with a transform, and add its transformed corners\nviewer.add_image(image, colormap='blue', opacity=.5, name='moving', affine=affine)\nviewer.add_points((corners_h @ affine.T)[:, :-1], size=0.5, opacity=.5, face_color=[0, 0, 0.8, 0.8], name='mv corners')\n\n# Note how the transformed corner points remain at the corners of the transformed image\n\n# Now add the a regridded version of the image transformed with scipy.ndimage.affine_transform\n# Note that we have to use the inverse of the affine as scipy does `pull` (or `backward`) resampling,\n# transforming the output space to the input to locate data, but napari does `push` (or `forward`) direction,\n# transforming input to output.\nscipy_affine = ndi.affine_transform(image, np.linalg.inv(affine), output_shape=(10, 25), order=5)\nviewer.add_image(scipy_affine, colormap='green', opacity=.5, name='scipy')\n\n# Reset the view\nviewer.reset_view()\n\nif __name__ == '__main__':\n    napari.run()"
      ]
    }
  ],
  "metadata": {
    "kernelspec": {
      "display_name": "Python 3",
      "language": "python",
      "name": "python3"
    },
    "language_info": {
      "codemirror_mode": {
        "name": "ipython",
        "version": 3
      },
      "file_extension": ".py",
      "mimetype": "text/x-python",
      "name": "python",
      "nbconvert_exporter": "python",
      "pygments_lexer": "ipython3",
      "version": "3.9.16"
    }
  },
  "nbformat": 4,
  "nbformat_minor": 0
}