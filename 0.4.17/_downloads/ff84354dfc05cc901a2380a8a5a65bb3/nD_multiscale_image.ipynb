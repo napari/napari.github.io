{
  "cells": [
    {
      "cell_type": "code",
      "execution_count": null,
      "metadata": {
        "collapsed": false
      },
      "outputs": [],
      "source": [
        "%matplotlib inline"
      ]
    },
    {
      "cell_type": "markdown",
      "metadata": {},
      "source": [
        "\n# nD multiscale image\n\nDisplays an nD multiscale image\n\n.. tags:: visualization-advanced\n"
      ]
    },
    {
      "cell_type": "code",
      "execution_count": null,
      "metadata": {
        "collapsed": false
      },
      "outputs": [],
      "source": [
        "from skimage.transform import pyramid_gaussian\nimport napari\nimport numpy as np\n\n\n# create multiscale from random data\nbase = np.random.random((1536, 1536))\nbase = np.array([base * (8 - i) / 8 for i in range(8)])\nprint('base shape', base.shape)\nmultiscale = list(\n    pyramid_gaussian(base, downscale=2, max_layer=2, multichannel=False)\n)\nprint('multiscale level shapes: ', [p.shape for p in multiscale])\n\n# add image multiscale\nviewer = napari.view_image(multiscale, contrast_limits=[0, 1], multiscale=True)\n\nif __name__ == '__main__':\n    napari.run()"
      ]
    }
  ],
  "metadata": {
    "kernelspec": {
      "display_name": "Python 3",
      "language": "python",
      "name": "python3"
    },
    "language_info": {
      "codemirror_mode": {
        "name": "ipython",
        "version": 3
      },
      "file_extension": ".py",
      "mimetype": "text/x-python",
      "name": "python",
      "nbconvert_exporter": "python",
      "pygments_lexer": "ipython3",
      "version": "3.9.15"
    }
  },
  "nbformat": 4,
  "nbformat_minor": 0
}