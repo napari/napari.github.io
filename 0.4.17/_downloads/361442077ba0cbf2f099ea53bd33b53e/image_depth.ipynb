{
  "cells": [
    {
      "cell_type": "code",
      "execution_count": null,
      "metadata": {
        "collapsed": false
      },
      "outputs": [],
      "source": [
        "%matplotlib inline"
      ]
    },
    {
      "cell_type": "markdown",
      "metadata": {},
      "source": [
        "\n# Image depth\n\n.. tags:: visualization-basic\n"
      ]
    },
    {
      "cell_type": "code",
      "execution_count": null,
      "metadata": {
        "collapsed": false
      },
      "outputs": [],
      "source": [
        "import napari\nimport numpy as np\n\nim_data = np.zeros((50, 50, 50))\nim_data[30:40, 25:35, 25:35] = 1\nviewer = napari.view_image(im_data, colormap='magenta', rendering='iso')\nviewer.add_image(im_data, colormap='green', rendering='iso', translate=(30, 0, 0))\n\npoints_data = [\n    [50, 30, 30],\n    [25, 30, 30],\n    [75, 30, 30]\n]\nviewer.add_points(points_data, size=4)\n\nviewer.dims.ndisplay = 3\n\nif __name__ == '__main__':\n    napari.run()"
      ]
    }
  ],
  "metadata": {
    "kernelspec": {
      "display_name": "Python 3",
      "language": "python",
      "name": "python3"
    },
    "language_info": {
      "codemirror_mode": {
        "name": "ipython",
        "version": 3
      },
      "file_extension": ".py",
      "mimetype": "text/x-python",
      "name": "python",
      "nbconvert_exporter": "python",
      "pygments_lexer": "ipython3",
      "version": "3.9.15"
    }
  },
  "nbformat": 4,
  "nbformat_minor": 0
}