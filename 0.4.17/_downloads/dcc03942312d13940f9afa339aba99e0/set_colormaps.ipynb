{
  "cells": [
    {
      "cell_type": "code",
      "execution_count": null,
      "metadata": {
        "collapsed": false
      },
      "outputs": [],
      "source": [
        "%matplotlib inline"
      ]
    },
    {
      "cell_type": "markdown",
      "metadata": {},
      "source": [
        "\n# Set colormaps\n\nAdd named or unnamed vispy colormaps to existing layers.\n\n.. tags:: visualization-basic\n"
      ]
    },
    {
      "cell_type": "code",
      "execution_count": null,
      "metadata": {
        "collapsed": false
      },
      "outputs": [],
      "source": [
        "import numpy as np\nimport vispy.color\nfrom skimage import data\nimport napari\n\n\nhisto = data.astronaut() / 255\nrch, gch, bch = np.transpose(histo, (2, 0, 1))\nred = vispy.color.Colormap([[0.0, 0.0, 0.0], [1.0, 0.0, 0.0]])\ngreen = vispy.color.Colormap([[0.0, 0.0, 0.0], [0.0, 1.0, 0.0]])\nblue = vispy.color.Colormap([[0.0, 0.0, 0.0], [0.0, 0.0, 1.0]])\n\nv = napari.Viewer()\n\nrlayer = v.add_image(rch, name='red channel')\nrlayer.blending = 'additive'\nrlayer.colormap = 'red', red\nglayer = v.add_image(gch, name='green channel')\nglayer.blending = 'additive'\nglayer.colormap = green  # this will appear as [unnamed colormap]\nblayer = v.add_image(bch, name='blue channel')\nblayer.blending = 'additive'\nblayer.colormap = {'blue': blue}\n\nif __name__ == '__main__':\n    napari.run()"
      ]
    }
  ],
  "metadata": {
    "kernelspec": {
      "display_name": "Python 3",
      "language": "python",
      "name": "python3"
    },
    "language_info": {
      "codemirror_mode": {
        "name": "ipython",
        "version": 3
      },
      "file_extension": ".py",
      "mimetype": "text/x-python",
      "name": "python",
      "nbconvert_exporter": "python",
      "pygments_lexer": "ipython3",
      "version": "3.9.15"
    }
  },
  "nbformat": 4,
  "nbformat_minor": 0
}