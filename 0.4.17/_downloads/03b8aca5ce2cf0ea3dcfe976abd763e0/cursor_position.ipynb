{
  "cells": [
    {
      "cell_type": "code",
      "execution_count": null,
      "metadata": {
        "collapsed": false
      },
      "outputs": [],
      "source": [
        "%matplotlib inline"
      ]
    },
    {
      "cell_type": "markdown",
      "metadata": {},
      "source": [
        "\n# Cursor position\n\nAdd small data to examine cursor positions\n\n.. tags:: interactivity\n"
      ]
    },
    {
      "cell_type": "code",
      "execution_count": null,
      "metadata": {
        "collapsed": false
      },
      "outputs": [],
      "source": [
        "import numpy as np\nimport napari\n\n\nviewer = napari.Viewer()\nimage = np.array([[1, 0, 0, 1],\n                  [0, 0, 1, 1],\n                  [1, 0, 3, 0],\n                  [0, 2, 0, 0]], dtype=int)\n\nviewer.add_labels(image)\n\npoints = np.array([[0, 0], [2, 0], [1, 3]])\nviewer.add_points(points, size=0.25)\n\nrect = np.array([[0, 0], [3, 1]])\nviewer.add_shapes(rect, shape_type='rectangle', edge_width=0.1)\n\nvect = np.array([[[3, 2], [-1, 1]]])\nviewer.add_vectors(vect, edge_width=0.1)\n\nif __name__ == '__main__':\n    napari.run()"
      ]
    }
  ],
  "metadata": {
    "kernelspec": {
      "display_name": "Python 3",
      "language": "python",
      "name": "python3"
    },
    "language_info": {
      "codemirror_mode": {
        "name": "ipython",
        "version": 3
      },
      "file_extension": ".py",
      "mimetype": "text/x-python",
      "name": "python",
      "nbconvert_exporter": "python",
      "pygments_lexer": "ipython3",
      "version": "3.9.15"
    }
  },
  "nbformat": 4,
  "nbformat_minor": 0
}