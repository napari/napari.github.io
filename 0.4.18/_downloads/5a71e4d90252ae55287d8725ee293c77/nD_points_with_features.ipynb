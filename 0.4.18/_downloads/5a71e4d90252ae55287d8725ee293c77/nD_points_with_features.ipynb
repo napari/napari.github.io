{
  "cells": [
    {
      "cell_type": "markdown",
      "metadata": {},
      "source": [
        "\n# nD points with features\n\nDisplay one points layer ontop of one 4-D image layer using the\nadd_points and add_image APIs, where the markes are visible as nD objects\nacross the dimensions, specified by their size\n\n.. tags:: visualization-nD\n"
      ]
    },
    {
      "cell_type": "code",
      "execution_count": null,
      "metadata": {
        "collapsed": false
      },
      "outputs": [],
      "source": [
        "import numpy as np\nfrom skimage import data\n\nimport napari\n\nblobs = data.binary_blobs(\n    length=100, blob_size_fraction=0.05, n_dim=3, volume_fraction=0.05\n)\nviewer = napari.view_image(blobs.astype(float))\n\n# create the points\npoints = []\nfor z in range(blobs.shape[0]):\n    points += [[z, 25, 25], [z, 25, 75], [z, 75, 25], [z, 75, 75]]\n\n# create the features for setting the face and edge color.\nface_feature = np.array(\n    [True, True, True, True, False, False, False, False]\n    * int(blobs.shape[0] / 2)\n)\nedge_feature = np.array(['A', 'B', 'C', 'D', 'E'] * int(len(points) / 5))\n\nfeatures = {\n    'face_feature': face_feature,\n    'edge_feature': edge_feature,\n}\n\npoints_layer = viewer.add_points(\n    points,\n    features=features,\n    size=3,\n    edge_width=5,\n    edge_width_is_relative=False,\n    edge_color='edge_feature',\n    face_color='face_feature',\n    out_of_slice_display=False,\n)\n\n# change the face color cycle\npoints_layer.face_color_cycle = ['white', 'black']\n\n# change the edge_color cycle.\n# there are 4 colors for 5 categories, so 'c' will be recycled\npoints_layer.edge_color_cycle = ['c', 'm', 'y', 'k']\n\nif __name__ == '__main__':\n    napari.run()"
      ]
    }
  ],
  "metadata": {
    "kernelspec": {
      "display_name": "Python 3",
      "language": "python",
      "name": "python3"
    },
    "language_info": {
      "codemirror_mode": {
        "name": "ipython",
        "version": 3
      },
      "file_extension": ".py",
      "mimetype": "text/x-python",
      "name": "python",
      "nbconvert_exporter": "python",
      "pygments_lexer": "ipython3",
      "version": "3.9.16"
    }
  },
  "nbformat": 4,
  "nbformat_minor": 0
}