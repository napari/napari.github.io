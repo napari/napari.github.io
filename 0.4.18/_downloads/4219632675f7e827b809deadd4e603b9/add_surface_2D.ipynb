{
  "cells": [
    {
      "cell_type": "markdown",
      "metadata": {},
      "source": [
        "\n# Add surface 2D\n\nDisplay a 2D surface\n\n.. tags:: visualization-basic\n"
      ]
    },
    {
      "cell_type": "code",
      "execution_count": null,
      "metadata": {
        "collapsed": false
      },
      "outputs": [],
      "source": [
        "import numpy as np\n\nimport napari\n\ndata = np.array([[0, 0], [0, 20], [10, 0], [10, 10]])\nfaces = np.array([[0, 1, 2], [1, 2, 3]])\nvalues = np.linspace(0, 1, len(data))\n\n# add the surface\nviewer = napari.view_surface((data, faces, values))\n\nif __name__ == '__main__':\n    napari.run()"
      ]
    }
  ],
  "metadata": {
    "kernelspec": {
      "display_name": "Python 3",
      "language": "python",
      "name": "python3"
    },
    "language_info": {
      "codemirror_mode": {
        "name": "ipython",
        "version": 3
      },
      "file_extension": ".py",
      "mimetype": "text/x-python",
      "name": "python",
      "nbconvert_exporter": "python",
      "pygments_lexer": "ipython3",
      "version": "3.9.16"
    }
  },
  "nbformat": 4,
  "nbformat_minor": 0
}