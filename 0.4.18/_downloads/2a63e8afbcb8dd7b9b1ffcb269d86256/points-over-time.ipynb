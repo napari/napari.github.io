{
  "cells": [
    {
      "cell_type": "markdown",
      "metadata": {},
      "source": [
        "\n# Points over time\n\n.. tags:: visualization-advanced\n"
      ]
    },
    {
      "cell_type": "code",
      "execution_count": null,
      "metadata": {
        "collapsed": false
      },
      "outputs": [],
      "source": [
        "import dask.array as da\nimport numpy as np\n\nimport napari\n\nimage4d = da.random.random(\n        (4000, 32, 256, 256),\n        chunks=(1, 32, 256, 256),\n        )\npts_coordinates = np.random.random((50000, 3)) * image4d.shape[1:]\npts_values = da.random.random((50000, 4000), chunks=(50000, 1))\n\nviewer = napari.Viewer(ndisplay=3)\nimage_layer = viewer.add_image(\n        image4d, opacity=0.5\n        )\npts_layer = viewer.add_points(\n        pts_coordinates,\n        features={'value': np.asarray(pts_values[:, 0])},\n        face_color='value',\n        size=2,\n        )\n\n\ndef set_pts_features(pts_layer, values_table, step):\n    # step is a 4D coordinate with the current slider position for each dim\n    column = step[0]  # grab the leading (\"time\") coordinate\n    pts_layer.features['value'] = np.asarray(values_table[:, column])\n    pts_layer.face_color = 'value'  # force features refresh\n\n\nviewer.dims.events.current_step.connect(\n        lambda event: set_pts_features(pts_layer, pts_values, event.value)\n        )\n\n\nif __name__ == '__main__':\n    napari.run()"
      ]
    }
  ],
  "metadata": {
    "kernelspec": {
      "display_name": "Python 3",
      "language": "python",
      "name": "python3"
    },
    "language_info": {
      "codemirror_mode": {
        "name": "ipython",
        "version": 3
      },
      "file_extension": ".py",
      "mimetype": "text/x-python",
      "name": "python",
      "nbconvert_exporter": "python",
      "pygments_lexer": "ipython3",
      "version": "3.9.16"
    }
  },
  "nbformat": 4,
  "nbformat_minor": 0
}