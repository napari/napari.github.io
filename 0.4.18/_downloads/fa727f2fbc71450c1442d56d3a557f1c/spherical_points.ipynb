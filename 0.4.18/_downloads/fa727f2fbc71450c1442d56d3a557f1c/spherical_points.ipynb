{
  "cells": [
    {
      "cell_type": "markdown",
      "metadata": {},
      "source": [
        "\n# Spherical points\n\n.. tags:: experimental\n"
      ]
    },
    {
      "cell_type": "code",
      "execution_count": null,
      "metadata": {
        "collapsed": false
      },
      "outputs": [],
      "source": [
        "import numpy as np\n\nimport napari\n\nnp.random.seed()\n\npts = np.random.rand(100, 3) * 100\ncolors = np.random.rand(100, 3)\nsizes = np.random.rand(100) * 20 + 10\n\nviewer = napari.Viewer(ndisplay=3)\npts_layer = viewer.add_points(\n    pts,\n    face_color=colors,\n    size=sizes,\n    shading='spherical',\n    edge_width=0,\n)\n\n# antialiasing is currently a bit broken, this is especially bad in 3D so\n# we turn it off here\npts_layer.antialiasing = 0\n\nviewer.reset_view()\n\nif __name__ == '__main__':\n    napari.run()"
      ]
    }
  ],
  "metadata": {
    "kernelspec": {
      "display_name": "Python 3",
      "language": "python",
      "name": "python3"
    },
    "language_info": {
      "codemirror_mode": {
        "name": "ipython",
        "version": 3
      },
      "file_extension": ".py",
      "mimetype": "text/x-python",
      "name": "python",
      "nbconvert_exporter": "python",
      "pygments_lexer": "ipython3",
      "version": "3.9.16"
    }
  },
  "nbformat": 4,
  "nbformat_minor": 0
}