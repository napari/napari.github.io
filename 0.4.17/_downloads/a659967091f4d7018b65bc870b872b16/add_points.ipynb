{
  "cells": [
    {
      "cell_type": "code",
      "execution_count": null,
      "metadata": {
        "collapsed": false
      },
      "outputs": [],
      "source": [
        "%matplotlib inline"
      ]
    },
    {
      "cell_type": "markdown",
      "metadata": {},
      "source": [
        "\n# Add points\n\nDisplay a points layer on top of an image layer using the ``add_points`` and\n``add_image`` APIs\n\n.. tags:: visualization-basic\n"
      ]
    },
    {
      "cell_type": "code",
      "execution_count": null,
      "metadata": {
        "collapsed": false
      },
      "outputs": [],
      "source": [
        "import numpy as np\nfrom skimage import data\nfrom skimage.color import rgb2gray\nimport napari\n\n\n# add the image\nviewer = napari.view_image(rgb2gray(data.astronaut()))\n# add the points\npoints = np.array([[100, 100], [200, 200], [333, 111]])\nsize = np.array([10, 20, 20])\nviewer.add_points(points, size=size)\n\n# unselect the image layer\nviewer.layers.selection.discard(viewer.layers[0])\n\n# adjust some of the points layer attributes\nlayer = viewer.layers[1]\n\n# change the layer name\nlayer.name = 'points'\n\n# change the layer visibility\nlayer.visible = False\nlayer.visible = True\n\n# select the layer\nviewer.layers.selection.add(layer)\n# deselect the layer\nviewer.layers.selection.remove(layer)\n# or: viewer.layers.selection.discard(layer)\n\n# change the layer opacity\nlayer.opacity = 0.9\n\n# change the layer point symbol using an alias\nlayer.symbol = '+'\n\n# change the layer point out_of_slice_display status\nlayer.out_of_slice_display = True\n\n# change the layer mode\nlayer.mode = 'add'\n\nif __name__ == '__main__':\n    napari.run()"
      ]
    }
  ],
  "metadata": {
    "kernelspec": {
      "display_name": "Python 3",
      "language": "python",
      "name": "python3"
    },
    "language_info": {
      "codemirror_mode": {
        "name": "ipython",
        "version": 3
      },
      "file_extension": ".py",
      "mimetype": "text/x-python",
      "name": "python",
      "nbconvert_exporter": "python",
      "pygments_lexer": "ipython3",
      "version": "3.9.15"
    }
  },
  "nbformat": 4,
  "nbformat_minor": 0
}