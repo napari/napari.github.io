{
  "cells": [
    {
      "cell_type": "markdown",
      "metadata": {},
      "source": [
        "\n# Annotate segmentation with text\n\nPerform a segmentation and annotate the results with\nbounding boxes and text\n\n.. tags:: analysis\n"
      ]
    },
    {
      "cell_type": "code",
      "execution_count": null,
      "metadata": {
        "collapsed": false
      },
      "outputs": [],
      "source": [
        "import numpy as np\nfrom skimage import data\nfrom skimage.filters import threshold_otsu\nfrom skimage.measure import label, regionprops_table\nfrom skimage.morphology import closing, remove_small_objects, square\nfrom skimage.segmentation import clear_border\n\nimport napari\n\n\ndef segment(image):\n    \"\"\"Segment an image using an intensity threshold determined via\n    Otsu's method.\n\n    Parameters\n    ----------\n    image : np.ndarray\n        The image to be segmented\n\n    Returns\n    -------\n    label_image : np.ndarray\n        The resulting image where each detected object labeled with a unique integer.\n    \"\"\"\n    # apply threshold\n    thresh = threshold_otsu(image)\n    bw = closing(image > thresh, square(4))\n\n    # remove artifacts connected to image border\n    cleared = remove_small_objects(clear_border(bw), 20)\n\n    # label image regions\n    label_image = label(cleared)\n\n    return label_image\n\n\ndef make_bbox(bbox_extents):\n    \"\"\"Get the coordinates of the corners of a\n    bounding box from the extents\n\n    Parameters\n    ----------\n    bbox_extents : list (4xN)\n        List of the extents of the bounding boxes for each of the N regions.\n        Should be ordered: [min_row, min_column, max_row, max_column]\n\n    Returns\n    -------\n    bbox_rect : np.ndarray\n        The corners of the bounding box. Can be input directly into a\n        napari Shapes layer.\n    \"\"\"\n    minr = bbox_extents[0]\n    minc = bbox_extents[1]\n    maxr = bbox_extents[2]\n    maxc = bbox_extents[3]\n\n    bbox_rect = np.array(\n        [[minr, minc], [maxr, minc], [maxr, maxc], [minr, maxc]]\n    )\n    bbox_rect = np.moveaxis(bbox_rect, 2, 0)\n\n    return bbox_rect\n\n\ndef circularity(perimeter, area):\n    \"\"\"Calculate the circularity of the region\n\n    Parameters\n    ----------\n    perimeter : float\n        the perimeter of the region\n    area : float\n        the area of the region\n\n    Returns\n    -------\n    circularity : float\n        The circularity of the region as defined by 4*pi*area / perimeter^2\n    \"\"\"\n    circularity = 4 * np.pi * area / (perimeter ** 2)\n\n    return circularity\n\n\n# load the image and segment it\nimage = data.coins()[50:-50, 50:-50]\nlabel_image = segment(image)\n\n# create the features dictionary\nfeatures = regionprops_table(\n    label_image, properties=('label', 'bbox', 'perimeter', 'area')\n)\nfeatures['circularity'] = circularity(\n    features['perimeter'], features['area']\n)\n\n# create the bounding box rectangles\nbbox_rects = make_bbox([features[f'bbox-{i}'] for i in range(4)])\n\n# specify the display parameters for the text\ntext_parameters = {\n    'string': 'label: {label}\\ncirc: {circularity:.2f}',\n    'size': 12,\n    'color': 'green',\n    'anchor': 'upper_left',\n    'translation': [-3, 0],\n}\n\n# initialise viewer with coins image\nviewer = napari.view_image(image, name='coins', rgb=False)\n\n# add the labels\nlabel_layer = viewer.add_labels(label_image, name='segmentation')\n\nshapes_layer = viewer.add_shapes(\n    bbox_rects,\n    face_color='transparent',\n    edge_color='green',\n    features=features,\n    text=text_parameters,\n    name='bounding box',\n)\n\nif __name__ == '__main__':\n    napari.run()"
      ]
    }
  ],
  "metadata": {
    "kernelspec": {
      "display_name": "Python 3",
      "language": "python",
      "name": "python3"
    },
    "language_info": {
      "codemirror_mode": {
        "name": "ipython",
        "version": 3
      },
      "file_extension": ".py",
      "mimetype": "text/x-python",
      "name": "python",
      "nbconvert_exporter": "python",
      "pygments_lexer": "ipython3",
      "version": "3.9.16"
    }
  },
  "nbformat": 4,
  "nbformat_minor": 0
}