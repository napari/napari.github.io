{
  "cells": [
    {
      "cell_type": "markdown",
      "metadata": {},
      "source": [
        "\n# nD shapes with text\n\n.. tags:: visualization-nD\n"
      ]
    },
    {
      "cell_type": "code",
      "execution_count": null,
      "metadata": {
        "collapsed": false
      },
      "outputs": [],
      "source": [
        "from skimage import data\n\nimport napari\n\nblobs = data.binary_blobs(\n    length=100, blob_size_fraction=0.05, n_dim=3, volume_fraction=0.03\n).astype(float)\n\nviewer = napari.view_image(blobs.astype(float), ndisplay=3)\n\nn = 50\nshape = [[[n, 40, 40], [n, 40, 60], [n + 20, 60, 60], [n + 20, 60, 40]]]\n\nfeatures = {'z_index': [n]}\ntext = {'string': 'z_index', 'color': 'green', 'anchor': 'upper_left'}\n\nshapes_layer = viewer.add_shapes(\n    shape,\n    edge_color=[0, 1, 0, 1],\n    face_color='transparent',\n    features=features,\n    text=text,\n)\n\nif __name__ == '__main__':\n    napari.run()"
      ]
    }
  ],
  "metadata": {
    "kernelspec": {
      "display_name": "Python 3",
      "language": "python",
      "name": "python3"
    },
    "language_info": {
      "codemirror_mode": {
        "name": "ipython",
        "version": 3
      },
      "file_extension": ".py",
      "mimetype": "text/x-python",
      "name": "python",
      "nbconvert_exporter": "python",
      "pygments_lexer": "ipython3",
      "version": "3.9.16"
    }
  },
  "nbformat": 4,
  "nbformat_minor": 0
}