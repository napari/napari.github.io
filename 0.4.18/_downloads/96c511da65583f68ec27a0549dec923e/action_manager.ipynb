{
  "cells": [
    {
      "cell_type": "markdown",
      "metadata": {},
      "source": [
        "\n# Action manager\n\n.. tags:: gui, experimental\n"
      ]
    },
    {
      "cell_type": "code",
      "execution_count": null,
      "metadata": {
        "collapsed": false
      },
      "outputs": [],
      "source": [
        "from random import shuffle\n\nimport numpy as np\nfrom skimage import data\n\nimport napari\nfrom napari._qt.widgets.qt_viewer_buttons import QtViewerPushButton\nfrom napari.components import ViewerModel\nfrom napari.utils.action_manager import action_manager\n\n\ndef rotate45(viewer: napari.Viewer):\n    \"\"\"\n    Rotate layer 0 of the viewer by 45\u00ba\n\n    Parameters\n    ----------\n    viewer : napari.Viewer\n        active (unique) instance of the napari viewer\n\n    Notes\n    -----\n    The `viewer` parameter needs to be named `viewer`, the action manager will\n    infer that we need an instance of viewer.\n    \"\"\"\n    angle = np.pi / 4\n    from numpy import cos, sin\n\n    r = np.array([[cos(angle), -sin(angle)], [sin(angle), cos(angle)]])\n    layer = viewer.layers[0]\n    layer.rotate = layer.rotate @ r\n\n\n# create the viewer with an image\nviewer = napari.view_image(data.astronaut(), rgb=True)\n\nlayer_buttons = viewer.window.qt_viewer.layerButtons\n\n# Button do not need to do anything, just need to be pretty; all the action\n# binding and (un) binding will be done with the action manager, idem for\n# setting the tooltip.\nrot_button = QtViewerPushButton('warning')\nlayer_buttons.layout().insertWidget(3, rot_button)\n\n\ndef register_action():\n    # Here we pass ViewerModel as the KeymapProvider as we want it to handle the shortcuts.\n    # we could also pass none and bind the shortcuts at the window level - though we\n    # are trying to not change the KeymapProvider API too much for now.\n    # we give an action name to the action for configuration purposes as we need\n    # it to be storable in json.\n\n    # By convention (may be enforce later), we do give an action name which is iprefixed\n    # by the name of the package it is defined in, here napari,\n    action_manager.register_action(\n        name='napari:rotate45',\n        command=rotate45,\n        description='Rotate layer 0 by 45deg',\n        keymapprovider=ViewerModel,\n    )\n\n\ndef bind_shortcut():\n    # note that the tooltip of the corresponding button will be updated to\n    # remove the shortcut.\n    action_manager.unbind_shortcut('napari:reset_view')  # Control-R\n    action_manager.bind_shortcut('napari:rotate45', 'Control-R')\n\n\ndef bind_button():\n    action_manager.bind_button('napari:rotate45', rot_button)\n\n\n# we can all bind_shortcut or register_action or bind_button in any order;\n# this let us configure shortcuts even if plugins are loaded / unloaded.\ncallbacks = [register_action, bind_shortcut, bind_button]\n\nshuffle(callbacks)\nfor c in callbacks:\n    print('calling', c)\n    c()\n\n\n# We can set the action manager in debug mode, to help us figure out which\n# button is triggering which action. This will update the tooltips of the buttons\n# to include the name of the action in between square brackets.\n\naction_manager._debug(True)\n\n# Let's also modify some existing shortcuts, by unbinding a few existing actions,\n# and rebinding them with new shortcuts; below we change the add and select mode\n# to be the = (same as + key on US Keyboards but without modifiers) and - keys.\n# unbinding returns the old key if it exists; but we don't use it.\n\n# in practice you likely don't need to modify the shortcuts this way as it will\n# be implemented in settings, though you could imagine a plugin that would\n# allow toggling between many keymaps.\n\nsettings = {\n        'napari:activate_points_add_mode' : '=',\n        'napari:activate_points_select_mode': '-',\n}\n\n\nfor action, key in settings.items():\n   _old_shortcut = action_manager.unbind_shortcut(action)\n   action_manager.bind_shortcut(action, key)\n\nif __name__ == '__main__':\n    napari.run()"
      ]
    }
  ],
  "metadata": {
    "kernelspec": {
      "display_name": "Python 3",
      "language": "python",
      "name": "python3"
    },
    "language_info": {
      "codemirror_mode": {
        "name": "ipython",
        "version": 3
      },
      "file_extension": ".py",
      "mimetype": "text/x-python",
      "name": "python",
      "nbconvert_exporter": "python",
      "pygments_lexer": "ipython3",
      "version": "3.9.16"
    }
  },
  "nbformat": 4,
  "nbformat_minor": 0
}