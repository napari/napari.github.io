{
  "cells": [
    {
      "cell_type": "markdown",
      "metadata": {},
      "source": [
        "\n# Show points based on feature\n\n.. tags:: visualization-advanced\n"
      ]
    },
    {
      "cell_type": "code",
      "execution_count": null,
      "metadata": {
        "collapsed": false
      },
      "outputs": [],
      "source": [
        "#!/usr/bin/env python3\n\nimport numpy as np\nfrom magicgui import magicgui\n\nimport napari\n\n# create points with a randomized \"confidence\" feature\npoints = np.random.rand(100, 3) * 100\ncolors = np.random.rand(100, 3)\nconfidence = np.random.rand(100)\n\nviewer = napari.Viewer(ndisplay=3)\npoints = viewer.add_points(\n        points, face_color=colors, features={'confidence': confidence}\n        )\n\n\n# create a simple widget with magicgui which provides a slider that controls the visilibility\n# of individual points based on their \"confidence\" value\n@magicgui(\n    auto_call=True,\n    threshold={'widget_type': 'FloatSlider', 'min': 0, 'max': 1}\n)\ndef confidence_slider(layer: napari.layers.Points, threshold=0.5):\n    layer.shown = layer.features['confidence'] > threshold\n\n\nviewer.window.add_dock_widget(confidence_slider)\n\nif __name__ == '__main__':\n    napari.run()"
      ]
    }
  ],
  "metadata": {
    "kernelspec": {
      "display_name": "Python 3",
      "language": "python",
      "name": "python3"
    },
    "language_info": {
      "codemirror_mode": {
        "name": "ipython",
        "version": 3
      },
      "file_extension": ".py",
      "mimetype": "text/x-python",
      "name": "python",
      "nbconvert_exporter": "python",
      "pygments_lexer": "ipython3",
      "version": "3.9.16"
    }
  },
  "nbformat": 4,
  "nbformat_minor": 0
}