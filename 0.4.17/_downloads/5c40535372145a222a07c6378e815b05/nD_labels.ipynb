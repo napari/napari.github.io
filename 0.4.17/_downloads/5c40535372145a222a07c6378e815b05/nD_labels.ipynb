{
  "cells": [
    {
      "cell_type": "code",
      "execution_count": null,
      "metadata": {
        "collapsed": false
      },
      "outputs": [],
      "source": [
        "%matplotlib inline"
      ]
    },
    {
      "cell_type": "markdown",
      "metadata": {},
      "source": [
        "\n# nD labels\n\nDisplay a labels layer above of an image layer using the ``add_labels`` and\n``add_image`` APIs\n\n.. tags:: visualization-nD\n"
      ]
    },
    {
      "cell_type": "code",
      "execution_count": null,
      "metadata": {
        "collapsed": false
      },
      "outputs": [],
      "source": [
        "from skimage import data\nfrom scipy import ndimage as ndi\nimport napari\n\n\nblobs = data.binary_blobs(length=128, volume_fraction=0.1, n_dim=3)\nviewer = napari.view_image(blobs[::2].astype(float), name='blobs', scale=(2, 1, 1))\nlabeled = ndi.label(blobs)[0]\nviewer.add_labels(labeled[::2], name='blob ID', scale=(2, 1, 1))\n\nif __name__ == '__main__':\n    napari.run()"
      ]
    }
  ],
  "metadata": {
    "kernelspec": {
      "display_name": "Python 3",
      "language": "python",
      "name": "python3"
    },
    "language_info": {
      "codemirror_mode": {
        "name": "ipython",
        "version": 3
      },
      "file_extension": ".py",
      "mimetype": "text/x-python",
      "name": "python",
      "nbconvert_exporter": "python",
      "pygments_lexer": "ipython3",
      "version": "3.9.15"
    }
  },
  "nbformat": 4,
  "nbformat_minor": 0
}