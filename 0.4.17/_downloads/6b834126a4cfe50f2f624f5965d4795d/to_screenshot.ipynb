{
  "cells": [
    {
      "cell_type": "code",
      "execution_count": null,
      "metadata": {
        "collapsed": false
      },
      "outputs": [],
      "source": [
        "%matplotlib inline"
      ]
    },
    {
      "cell_type": "markdown",
      "metadata": {},
      "source": [
        "\n# To screenshot\n\nDisplay one shapes layer ontop of one image layer using the ``add_shapes`` and\n``add_image`` APIs. When the window is closed it will print the coordinates of\nyour shapes.\n\n.. tags:: visualization-advanced\n"
      ]
    },
    {
      "cell_type": "code",
      "execution_count": null,
      "metadata": {
        "collapsed": false
      },
      "outputs": [],
      "source": [
        "import numpy as np\nfrom skimage import data\nimport napari\nfrom vispy.color import Colormap\n\n\n# create the viewer and window\nviewer = napari.Viewer()\n\n# add the image\nimg_layer = viewer.add_image(data.camera(), name='photographer')\nimg_layer.colormap = 'gray'\n\n# create a list of polygons\npolygons = [\n    np.array([[11, 13], [111, 113], [22, 246]]),\n    np.array(\n        [\n            [505, 60],\n            [402, 71],\n            [383, 42],\n            [251, 95],\n            [212, 59],\n            [131, 137],\n            [126, 187],\n            [191, 204],\n            [171, 248],\n            [211, 260],\n            [273, 243],\n            [264, 225],\n            [430, 173],\n            [512, 160],\n        ]\n    ),\n    np.array(\n        [\n            [310, 382],\n            [229, 381],\n            [209, 401],\n            [221, 411],\n            [258, 411],\n            [300, 412],\n            [306, 435],\n            [268, 434],\n            [265, 454],\n            [298, 461],\n            [307, 461],\n            [307, 507],\n            [349, 510],\n            [352, 369],\n            [330, 366],\n            [330, 366],\n        ]\n    ),\n]\n\n# add polygons\nlayer = viewer.add_shapes(\n    polygons,\n    shape_type='polygon',\n    edge_width=1,\n    edge_color='coral',\n    face_color='royalblue',\n    name='shapes',\n)\n\n# change some attributes of the layer\nlayer.selected_data = set(range(layer.nshapes))\nlayer.current_edge_width = 5\nlayer.opacity = 0.75\nlayer.selected_data = set()\n\n# add an ellipse to the layer\nellipse = np.array([[59, 222], [110, 289], [170, 243], [119, 176]])\nlayer.add(\n    ellipse,\n    shape_type='ellipse',\n    edge_width=5,\n    edge_color='coral',\n    face_color='purple',\n)\n\nmasks = layer.to_masks([512, 512])\nmasks_layer = viewer.add_image(masks.astype(float), name='masks')\nmasks_layer.opacity = 0.7\nmasks_layer.colormap = Colormap([[0.0, 0.0, 0.0, 0.0], [1.0, 0.0, 0.0, 1.0]])\n\nlabels = layer.to_labels([512, 512])\nlabels_layer = viewer.add_labels(labels, name='labels')\n\npoints = np.array([[100, 100], [200, 200], [333, 111]])\nsize = np.array([10, 20, 20])\nviewer.add_points(points, size=size)\n\n# sample vector coord-like data\nn = 100\npos = np.zeros((n, 2, 2), dtype=np.float32)\nphi_space = np.linspace(0, 4 * np.pi, n)\nradius_space = np.linspace(0, 100, n)\n\n# assign x-y position\npos[:, 0, 0] = radius_space * np.cos(phi_space) + 350\npos[:, 0, 1] = radius_space * np.sin(phi_space) + 256\n\n# assign x-y projection\npos[:, 1, 0] = 2 * radius_space * np.cos(phi_space)\npos[:, 1, 1] = 2 * radius_space * np.sin(phi_space)\n\n# add the vectors\nlayer = viewer.add_vectors(pos, edge_width=2)\n\n# take screenshot\nscreenshot = viewer.screenshot()\nviewer.add_image(screenshot, rgb=True, name='screenshot')\n\n# from skimage.io import imsave\n# imsave('screenshot.png', screenshot)\n\nif __name__ == '__main__':\n    napari.run()"
      ]
    }
  ],
  "metadata": {
    "kernelspec": {
      "display_name": "Python 3",
      "language": "python",
      "name": "python3"
    },
    "language_info": {
      "codemirror_mode": {
        "name": "ipython",
        "version": 3
      },
      "file_extension": ".py",
      "mimetype": "text/x-python",
      "name": "python",
      "nbconvert_exporter": "python",
      "pygments_lexer": "ipython3",
      "version": "3.9.15"
    }
  },
  "nbformat": 4,
  "nbformat_minor": 0
}