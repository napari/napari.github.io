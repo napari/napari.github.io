{
  "cells": [
    {
      "cell_type": "code",
      "execution_count": null,
      "metadata": {
        "collapsed": false
      },
      "outputs": [],
      "source": [
        "%matplotlib inline"
      ]
    },
    {
      "cell_type": "markdown",
      "metadata": {},
      "source": [
        "\n# Tracks 3D with graph\n\n.. tags:: visualization-advanced\n"
      ]
    },
    {
      "cell_type": "code",
      "execution_count": null,
      "metadata": {
        "collapsed": false
      },
      "outputs": [],
      "source": [
        "import napari\nimport numpy as np\n\n\ndef _circle(r, theta):\n    x = r * np.cos(theta)\n    y = r * np.sin(theta)\n    return x, y\n\n\ndef tracks_3d_merge_split():\n    \"\"\"Create tracks with splitting and merging.\"\"\"\n\n    timestamps = np.arange(300)\n\n    def _trajectory(t, r, track_id):\n        theta = t * 0.1\n        x, y = _circle(r, theta)\n        z = np.zeros(x.shape)\n        tid = np.ones(x.shape) * track_id\n        return np.stack([tid, t, z, y, x], axis=1)\n\n    trackA = _trajectory(timestamps[:100], 30.0, 0)\n    trackB = _trajectory(timestamps[100:200], 10.0, 1)\n    trackC = _trajectory(timestamps[100:200], 50.0, 2)\n    trackD = _trajectory(timestamps[200:], 30.0, 3)\n\n    data = [trackA, trackB, trackC, trackD]\n    tracks = np.concatenate(data, axis=0)\n    tracks[:, 2:] += 50.0  # centre the track at (50, 50, 50)\n\n    graph = {1: 0, 2: [0], 3: [1, 2]}\n\n    features = {'time': tracks[:, 1]}\n\n    return tracks, features, graph\n\n\ntracks, features, graph = tracks_3d_merge_split()\nvertices = tracks[:, 1:]\n\nviewer = napari.Viewer(ndisplay=3)\nviewer.add_points(vertices, size=1, name='points', opacity=0.3)\nviewer.add_tracks(tracks, features=features, graph=graph, name='tracks')\n\nif __name__ == '__main__':\n    napari.run()"
      ]
    }
  ],
  "metadata": {
    "kernelspec": {
      "display_name": "Python 3",
      "language": "python",
      "name": "python3"
    },
    "language_info": {
      "codemirror_mode": {
        "name": "ipython",
        "version": 3
      },
      "file_extension": ".py",
      "mimetype": "text/x-python",
      "name": "python",
      "nbconvert_exporter": "python",
      "pygments_lexer": "ipython3",
      "version": "3.9.15"
    }
  },
  "nbformat": 4,
  "nbformat_minor": 0
}