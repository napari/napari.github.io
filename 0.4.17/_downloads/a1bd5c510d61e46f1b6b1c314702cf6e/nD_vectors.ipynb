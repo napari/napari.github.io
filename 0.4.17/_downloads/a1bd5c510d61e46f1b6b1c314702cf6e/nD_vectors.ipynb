{
  "cells": [
    {
      "cell_type": "code",
      "execution_count": null,
      "metadata": {
        "collapsed": false
      },
      "outputs": [],
      "source": [
        "%matplotlib inline"
      ]
    },
    {
      "cell_type": "markdown",
      "metadata": {},
      "source": [
        "\n# nD vectors\n\nDisplay two vectors layers ontop of a 4-D image layer. One of the vectors\nlayers is 3D and \"sliced\" with a different set of vectors appearing on\ndifferent 3D slices. Another is 2D and \"broadcast\" with the same vectors\napprearing on each slice.\n\n.. tags:: visualization-nD\n"
      ]
    },
    {
      "cell_type": "code",
      "execution_count": null,
      "metadata": {
        "collapsed": false
      },
      "outputs": [],
      "source": [
        "import numpy as np\nfrom skimage import data\nimport napari\n\n\nblobs = np.stack(\n    [\n        data.binary_blobs(\n            length=128, blob_size_fraction=0.05, n_dim=3, volume_fraction=f\n        )\n        for f in np.linspace(0.05, 0.5, 10)\n    ],\n    axis=0,\n)\nviewer = napari.view_image(blobs.astype(float))\n\n# sample vector coord-like data\nn = 200\npos = np.zeros((n, 2, 2), dtype=np.float32)\nphi_space = np.linspace(0, 4 * np.pi, n)\nradius_space = np.linspace(0, 20, n)\n\n# assign x-y position\npos[:, 0, 0] = radius_space * np.cos(phi_space) + 64\npos[:, 0, 1] = radius_space * np.sin(phi_space) + 64\n\n# assign x-y projection\npos[:, 1, 0] = 2 * radius_space * np.cos(phi_space)\npos[:, 1, 1] = 2 * radius_space * np.sin(phi_space)\n\nplanes = np.round(np.linspace(0, 128, n)).astype(int)\nplanes = np.concatenate(\n    (planes.reshape((n, 1, 1)), np.zeros((n, 1, 1))), axis=1\n)\nvectors = np.concatenate((planes, pos), axis=2)\n\n# add the sliced vectors\nlayer = viewer.add_vectors(\n    vectors, edge_width=0.4, name='sliced vectors', edge_color='blue'\n)\n\nviewer.dims.ndisplay = 3\n\nif __name__ == '__main__':\n    napari.run()"
      ]
    }
  ],
  "metadata": {
    "kernelspec": {
      "display_name": "Python 3",
      "language": "python",
      "name": "python3"
    },
    "language_info": {
      "codemirror_mode": {
        "name": "ipython",
        "version": 3
      },
      "file_extension": ".py",
      "mimetype": "text/x-python",
      "name": "python",
      "nbconvert_exporter": "python",
      "pygments_lexer": "ipython3",
      "version": "3.9.15"
    }
  },
  "nbformat": 4,
  "nbformat_minor": 0
}