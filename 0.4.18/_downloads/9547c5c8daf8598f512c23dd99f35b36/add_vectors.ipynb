{
  "cells": [
    {
      "cell_type": "markdown",
      "metadata": {},
      "source": [
        "\n# Add vectors\n\nThis example generates an image of vectors\nVector data is an array of shape (N, 4)\nEach vector position is defined by an (x, y, x-proj, y-proj) element where\n* x and y are the center points\n* x-proj and y-proj are the vector projections at each center\n\n.. tags:: visualization-basic\n"
      ]
    },
    {
      "cell_type": "code",
      "execution_count": null,
      "metadata": {
        "collapsed": false
      },
      "outputs": [],
      "source": [
        "import numpy as np\nfrom skimage import data\n\nimport napari\n\n# create the viewer and window\nviewer = napari.Viewer()\n\nlayer = viewer.add_image(data.camera(), name='photographer')\n\n# sample vector coord-like data\nn = 200\npos = np.zeros((n, 2, 2), dtype=np.float32)\nphi_space = np.linspace(0, 4 * np.pi, n)\nradius_space = np.linspace(0, 100, n)\n\n# assign x-y position\npos[:, 0, 0] = radius_space * np.cos(phi_space) + 300\npos[:, 0, 1] = radius_space * np.sin(phi_space) + 256\n\n# assign x-y projection\npos[:, 1, 0] = 2 * radius_space * np.cos(phi_space)\npos[:, 1, 1] = 2 * radius_space * np.sin(phi_space)\n\n# add the vectors\nlayer = viewer.add_vectors(pos, edge_width=3)\n\nif __name__ == '__main__':\n    napari.run()"
      ]
    }
  ],
  "metadata": {
    "kernelspec": {
      "display_name": "Python 3",
      "language": "python",
      "name": "python3"
    },
    "language_info": {
      "codemirror_mode": {
        "name": "ipython",
        "version": 3
      },
      "file_extension": ".py",
      "mimetype": "text/x-python",
      "name": "python",
      "nbconvert_exporter": "python",
      "pygments_lexer": "ipython3",
      "version": "3.9.16"
    }
  },
  "nbformat": 4,
  "nbformat_minor": 0
}