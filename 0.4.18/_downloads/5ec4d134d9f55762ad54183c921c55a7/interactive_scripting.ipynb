{
  "cells": [
    {
      "cell_type": "markdown",
      "metadata": {},
      "source": [
        "\n# Interactive scripting\n\n.. tags:: interactivity\n"
      ]
    },
    {
      "cell_type": "code",
      "execution_count": null,
      "metadata": {
        "collapsed": false
      },
      "outputs": [],
      "source": [
        "import time\n\nimport numpy as np\n\nimport napari\nfrom napari.qt import thread_worker\n\n# create the viewer with an image\ndata = np.random.random((512, 512))\nviewer = napari.Viewer()\nlayer = viewer.add_image(data)\n\ndef update_layer(data):\n    layer.data = data\n\n@thread_worker(connect={'yielded': update_layer})\ndef create_data(*, update_period, num_updates):\n    # number of times to update\n    for _k in range(num_updates):\n        yield np.random.random((512, 512))\n        time.sleep(update_period)\n\ncreate_data(update_period=0.05, num_updates=50)\n\nif __name__ == '__main__':\n    napari.run()"
      ]
    }
  ],
  "metadata": {
    "kernelspec": {
      "display_name": "Python 3",
      "language": "python",
      "name": "python3"
    },
    "language_info": {
      "codemirror_mode": {
        "name": "ipython",
        "version": 3
      },
      "file_extension": ".py",
      "mimetype": "text/x-python",
      "name": "python",
      "nbconvert_exporter": "python",
      "pygments_lexer": "ipython3",
      "version": "3.9.16"
    }
  },
  "nbformat": 4,
  "nbformat_minor": 0
}