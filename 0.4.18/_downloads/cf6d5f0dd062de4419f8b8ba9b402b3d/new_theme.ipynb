{
  "cells": [
    {
      "cell_type": "markdown",
      "metadata": {},
      "source": [
        "\n# New theme\n\nDisplays an image and sets the theme to new custom theme.\n\n.. tags:: experimental\n"
      ]
    },
    {
      "cell_type": "code",
      "execution_count": null,
      "metadata": {
        "collapsed": false
      },
      "outputs": [],
      "source": [
        "from skimage import data\n\nimport napari\nfrom napari.utils.theme import available_themes, get_theme, register_theme\n\n# create the viewer with an image\nviewer = napari.view_image(data.astronaut(), rgb=True, name='astronaut')\n\n# List themes\nprint('Originally themes', available_themes())\n\nblue_theme = get_theme('dark', False)\nblue_theme.id = \"blue\"\nblue_theme.icon = (\n    'rgb(0, 255, 255)'  # you can provide colors as rgb(XXX, YYY, ZZZ)\n)\nblue_theme.background = 28, 31, 48  # or as tuples\nblue_theme.foreground = [45, 52, 71]  # or as list\nblue_theme.primary = '#50586c'  # or as hexes\nblue_theme.current = 'orange'  # or as color name\n\nregister_theme('blue', blue_theme, \"custom\")\n\n# List themes\nprint('New themes', available_themes())\n\n# Set theme\nviewer.theme = 'blue'\n\nif __name__ == '__main__':\n    napari.run()"
      ]
    }
  ],
  "metadata": {
    "kernelspec": {
      "display_name": "Python 3",
      "language": "python",
      "name": "python3"
    },
    "language_info": {
      "codemirror_mode": {
        "name": "ipython",
        "version": 3
      },
      "file_extension": ".py",
      "mimetype": "text/x-python",
      "name": "python",
      "nbconvert_exporter": "python",
      "pygments_lexer": "ipython3",
      "version": "3.9.16"
    }
  },
  "nbformat": 4,
  "nbformat_minor": 0
}