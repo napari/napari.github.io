{
  "cells": [
    {
      "cell_type": "code",
      "execution_count": null,
      "metadata": {
        "collapsed": false
      },
      "outputs": [],
      "source": [
        "%matplotlib inline"
      ]
    },
    {
      "cell_type": "markdown",
      "metadata": {},
      "source": [
        "\n# nD vectors image\n\nThis example generates an image of vectors\nVector data is an array of shape (M, N, P, 3)\nEach vector position is defined by an (x-proj, y-proj, z-proj) element\nwhich are vector projections centered on a pixel of the MxNxP grid\n\n.. tags:: visualization-nD\n"
      ]
    },
    {
      "cell_type": "code",
      "execution_count": null,
      "metadata": {
        "collapsed": false
      },
      "outputs": [],
      "source": [
        "import napari\nimport numpy as np\n\n\n# create the viewer and window\nviewer = napari.Viewer()\n\nm = 10\nn = 20\np = 40\n\nimage = 0.2 * np.random.random((m, n, p)) + 0.5\nlayer = viewer.add_image(image, contrast_limits=[0, 1], name='background')\n\n# sample vector image-like data\n# n x m grid of slanted lines\n# random data on the open interval (-1, 1)\npos = np.random.uniform(-1, 1, size=(m, n, p, 3))\nprint(image.shape, pos.shape)\n\n# add the vectors\nvect = viewer.add_vectors(pos, edge_width=0.2, length=2.5)\n\nif __name__ == '__main__':\n    napari.run()"
      ]
    }
  ],
  "metadata": {
    "kernelspec": {
      "display_name": "Python 3",
      "language": "python",
      "name": "python3"
    },
    "language_info": {
      "codemirror_mode": {
        "name": "ipython",
        "version": 3
      },
      "file_extension": ".py",
      "mimetype": "text/x-python",
      "name": "python",
      "nbconvert_exporter": "python",
      "pygments_lexer": "ipython3",
      "version": "3.9.15"
    }
  },
  "nbformat": 4,
  "nbformat_minor": 0
}