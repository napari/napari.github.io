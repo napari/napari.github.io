{
  "cells": [
    {
      "cell_type": "code",
      "execution_count": null,
      "metadata": {
        "collapsed": false
      },
      "outputs": [],
      "source": [
        "%matplotlib inline"
      ]
    },
    {
      "cell_type": "markdown",
      "metadata": {},
      "source": [
        "\n# Custom mouse functions\n\nDisplay one 4-D image layer using the ``add_image`` API\n\n.. tags:: gui\n"
      ]
    },
    {
      "cell_type": "code",
      "execution_count": null,
      "metadata": {
        "collapsed": false
      },
      "outputs": [],
      "source": [
        "from skimage import data\nfrom skimage.morphology import binary_dilation, binary_erosion\nfrom scipy import ndimage as ndi\nimport numpy as np\nimport napari\n\n\nnp.random.seed(1)\nviewer = napari.Viewer()\nblobs = data.binary_blobs(length=128, volume_fraction=0.1, n_dim=2)\nlabeled = ndi.label(blobs)[0]\nlabels_layer = viewer.add_labels(labeled, name='blob ID')\n\n@viewer.mouse_drag_callbacks.append\ndef get_event(viewer, event):\n    print(event)\n\n@viewer.mouse_drag_callbacks.append\ndef get_ndisplay(viewer, event):\n    if 'Alt' in event.modifiers:\n        print('viewer display ', viewer.dims.ndisplay)\n\n@labels_layer.mouse_drag_callbacks.append\ndef get_connected_component_shape(layer, event):\n    data_coordinates = layer.world_to_data(event.position)\n    cords = np.round(data_coordinates).astype(int)\n    val = layer.get_value(data_coordinates)\n    if val is None:\n        return\n    if val != 0:\n        data = layer.data\n        binary = data == val\n        if 'Shift' in event.modifiers:\n            binary_new = binary_erosion(binary)\n            data[binary] = 0\n        else:\n            binary_new = binary_dilation(binary)\n        data[binary_new] = val\n        size = np.sum(binary_new)\n        layer.data = data\n        msg = (\n            f'clicked at {cords} on blob {val} which is now {size} pixels'\n        )\n    else:\n        msg = f'clicked at {cords} on background which is ignored'\n    print(msg)\n\n# Handle click or drag events separately\n@labels_layer.mouse_drag_callbacks.append\ndef click_drag(layer, event):\n    print('mouse down')\n    dragged = False\n    yield\n    # on move\n    while event.type == 'mouse_move':\n        print(event.position)\n        dragged = True\n        yield\n    # on release\n    if dragged:\n        print('drag end')\n    else:\n        print('clicked!')\n\n# Handle click or drag events separately\n@labels_layer.mouse_double_click_callbacks.append\ndef on_second_click_of_double_click(layer, event):\n    print('Second click of double_click', event.position)\n    print('note that a click event was also triggered', event.type)\n\n\nif __name__ == '__main__':\n    napari.run()"
      ]
    }
  ],
  "metadata": {
    "kernelspec": {
      "display_name": "Python 3",
      "language": "python",
      "name": "python3"
    },
    "language_info": {
      "codemirror_mode": {
        "name": "ipython",
        "version": 3
      },
      "file_extension": ".py",
      "mimetype": "text/x-python",
      "name": "python",
      "nbconvert_exporter": "python",
      "pygments_lexer": "ipython3",
      "version": "3.9.15"
    }
  },
  "nbformat": 4,
  "nbformat_minor": 0
}