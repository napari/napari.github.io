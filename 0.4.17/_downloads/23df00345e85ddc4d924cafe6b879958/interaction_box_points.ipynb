{
  "cells": [
    {
      "cell_type": "code",
      "execution_count": null,
      "metadata": {
        "collapsed": false
      },
      "outputs": [],
      "source": [
        "%matplotlib inline"
      ]
    },
    {
      "cell_type": "markdown",
      "metadata": {},
      "source": [
        "\n# Interaction box points\n\nDemonstrate interaction box on points layer\n\n.. tags:: experimental\n"
      ]
    },
    {
      "cell_type": "code",
      "execution_count": null,
      "metadata": {
        "collapsed": false
      },
      "outputs": [],
      "source": [
        "from skimage import data\nimport napari\nimport numpy as np\nfrom napari.layers.points._points_utils import points_in_box\n\n\ndef on_selection_box_drag(event):\n    # Do selection in world coordinates so box aligns with axes (not sure if this is guaranteed)\n    points = viewer.layers.selection.active._data_to_world(viewer.layers.selection.active._view_data)\n    sel_i = points_in_box(event.value,points,viewer.layers.selection.active._view_size)\n    viewer.layers.selection.active.selected_data = sel_i\n\ndef on_selection_box_final(event):\n    sel_i = viewer.layers.selection.active.selected_data\n    if len(sel_i) > 0:\n        viewer.overlays.interaction_box.points = viewer.layers.selection.active._data_to_world(np.array([viewer.layers.selection.active._view_data[i] for i in sel_i]))\n        viewer.overlays.interaction_box.show = True\n        viewer.overlays.interaction_box.show_vertices = True\n        viewer.overlays.interaction_box.show_handle = True\n    else:\n        viewer.overlays.interaction_box.points = None\n        viewer.layers.selection.active.selected_data = []\n\ndef on_transform_changed_drag(event):\n    sel_i = viewer.layers.selection.active.selected_data\n    points = viewer.overlays.interaction_box.points\n\n    for i, index in enumerate(sel_i):\n        viewer.layers.selection.active._data[index] = viewer.layers.selection.active.world_to_data(event.value(points[i]))\n    viewer.layers.selection.active._update_dims()\n    viewer.layers.selection.active.events.data(value=viewer.layers.selection.active.data)\n\nX, Y = np.mgrid[-500:500:50, -500:500:50]\npositions = np.dstack([X.ravel(), Y.ravel()])\nviewer = napari.view_points(positions[0,:,:])\nviewer.layers.selection.active.interactive = False\nviewer.overlays.interaction_box.show = True\nviewer.overlays.interaction_box.events.selection_box_drag.connect(on_selection_box_drag)\nviewer.overlays.interaction_box.events.selection_box_final.connect(on_selection_box_final)\nviewer.overlays.interaction_box.events.transform_drag.connect(on_transform_changed_drag)\n\nif __name__ == '__main__':\n    napari.run()"
      ]
    }
  ],
  "metadata": {
    "kernelspec": {
      "display_name": "Python 3",
      "language": "python",
      "name": "python3"
    },
    "language_info": {
      "codemirror_mode": {
        "name": "ipython",
        "version": 3
      },
      "file_extension": ".py",
      "mimetype": "text/x-python",
      "name": "python",
      "nbconvert_exporter": "python",
      "pygments_lexer": "ipython3",
      "version": "3.9.15"
    }
  },
  "nbformat": 4,
  "nbformat_minor": 0
}