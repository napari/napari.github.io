{
  "cells": [
    {
      "cell_type": "code",
      "execution_count": null,
      "metadata": {
        "collapsed": false
      },
      "outputs": [],
      "source": [
        "%matplotlib inline"
      ]
    },
    {
      "cell_type": "markdown",
      "metadata": {},
      "source": [
        "\n# Add shapes with features\n\nDisplay one shapes layer ontop of one image layer using the ``add_shapes`` and\n``add_image`` APIs. When the window is closed it will print the coordinates of\nyour shapes.\n\n.. tags:: visualization-basic\n"
      ]
    },
    {
      "cell_type": "code",
      "execution_count": null,
      "metadata": {
        "collapsed": false
      },
      "outputs": [],
      "source": [
        "import numpy as np\nfrom skimage import data\nimport napari\n\n\n# add the image\nviewer = napari.view_image(data.camera(), name='photographer')\n\n# create a list of polygons\npolygons = [\n    np.array([[11, 13], [111, 113], [22, 246]]),\n    np.array(\n        [\n            [505, 60],\n            [402, 71],\n            [383, 42],\n            [251, 95],\n            [212, 59],\n            [131, 137],\n            [126, 187],\n            [191, 204],\n            [171, 248],\n            [211, 260],\n            [273, 243],\n            [264, 225],\n            [430, 173],\n            [512, 160],\n        ]\n    ),\n    np.array(\n        [\n            [310, 382],\n            [229, 381],\n            [209, 401],\n            [221, 411],\n            [258, 411],\n            [300, 412],\n            [306, 435],\n            [268, 434],\n            [265, 454],\n            [298, 461],\n            [307, 461],\n            [307, 507],\n            [349, 510],\n            [352, 369],\n            [330, 366],\n            [330, 366],\n        ]\n    ),\n]\n\n# create features\nfeatures = {\n    'likelihood': [0.2, 0.5, 1],\n    'class': ['sky', 'person', 'building'],\n}\nface_color_cycle = ['blue', 'magenta', 'green']\n\n# add polygons\nlayer = viewer.add_shapes(\n    polygons,\n    features=features,\n    shape_type='polygon',\n    edge_width=1,\n    edge_color='likelihood',\n    edge_colormap='gray',\n    face_color='class',\n    face_color_cycle=face_color_cycle,\n    name='shapes',\n)\n\n# change some attributes of the layer\nlayer.selected_data = set(range(layer.nshapes))\nlayer.current_edge_width = 5\nlayer.selected_data = set()\n\n# To save layers to svg:\n# viewer.layers.save('viewer.svg', plugin='svg')\n\nif __name__ == '__main__':\n    napari.run()"
      ]
    }
  ],
  "metadata": {
    "kernelspec": {
      "display_name": "Python 3",
      "language": "python",
      "name": "python3"
    },
    "language_info": {
      "codemirror_mode": {
        "name": "ipython",
        "version": 3
      },
      "file_extension": ".py",
      "mimetype": "text/x-python",
      "name": "python",
      "nbconvert_exporter": "python",
      "pygments_lexer": "ipython3",
      "version": "3.9.15"
    }
  },
  "nbformat": 4,
  "nbformat_minor": 0
}