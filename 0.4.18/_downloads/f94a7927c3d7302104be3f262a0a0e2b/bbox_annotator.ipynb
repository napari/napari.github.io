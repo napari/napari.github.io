{
  "cells": [
    {
      "cell_type": "markdown",
      "metadata": {},
      "source": [
        "\n# bbox annotator\n\n.. tags:: gui\n"
      ]
    },
    {
      "cell_type": "code",
      "execution_count": null,
      "metadata": {
        "collapsed": false
      },
      "outputs": [],
      "source": [
        "import numpy as np\nimport pandas as pd\nfrom magicgui.widgets import ComboBox, Container\nfrom skimage import data\n\nimport napari\n\n# set up the categorical annotation values and text display properties\nbox_annotations = ['person', 'sky', 'camera']\ntext_feature = 'box_label'\nfeatures = pd.DataFrame({\n    text_feature: pd.Series([], dtype=pd.CategoricalDtype(box_annotations))\n})\ntext_color = 'green'\ntext_size = 20\n\n\n# create the GUI for selecting the values\ndef create_label_menu(shapes_layer, label_feature, labels):\n    \"\"\"Create a label menu widget that can be added to the napari viewer dock\n\n    Parameters\n    ----------\n    shapes_layer : napari.layers.Shapes\n        a napari shapes layer\n    label_feature : str\n        the name of the shapes feature to use the displayed text\n    labels : List[str]\n        list of the possible text labels values.\n\n    Returns\n    -------\n    label_widget : magicgui.widgets.Container\n        the container widget with the label combobox\n    \"\"\"\n    # Create the label selection menu\n    label_menu = ComboBox(label='text label', choices=labels)\n    label_widget = Container(widgets=[label_menu])\n\n    def update_label_menu():\n        \"\"\"This is a callback function that updates the label menu when\n        the default features of the Shapes layer change\n        \"\"\"\n        new_label = str(shapes_layer.feature_defaults[label_feature][0])\n        if new_label != label_menu.value:\n            label_menu.value = new_label\n\n    shapes_layer.events.feature_defaults.connect(update_label_menu)\n\n    def set_selected_features_to_default():\n        \"\"\"This is a callback that updates the feature values of the currently\n        selected shapes. This is a side-effect of the deprecated current_properties\n        setter, but does not occur when modifying feature_defaults.\"\"\"\n        indices = list(shapes_layer.selected_data)\n        default_value = shapes_layer.feature_defaults[label_feature][0]\n        shapes_layer.features[label_feature][indices] = default_value\n        shapes_layer.events.features()\n\n    shapes_layer.events.feature_defaults.connect(set_selected_features_to_default)\n    shapes_layer.events.features.connect(shapes_layer.refresh_text)\n\n    def label_changed(value: str):\n        \"\"\"This is a callback that update the default features on the Shapes layer\n        when the label menu selection changes\n        \"\"\"\n        shapes_layer.feature_defaults[label_feature] = value\n        shapes_layer.events.feature_defaults()\n\n    label_menu.changed.connect(label_changed)\n\n    return label_widget\n\n\n# create a stack with the camera image shifted in each slice\nn_slices = 5\nbase_image = data.camera()\nimage = np.zeros((n_slices, base_image.shape[0], base_image.shape[1]), dtype=base_image.dtype)\nfor slice_idx in range(n_slices):\n    shift = 1 + 10 * slice_idx\n    image[slice_idx, ...] = np.pad(base_image, ((0, 0), (shift, 0)), mode='constant')[:, :-shift]\n\n\n# create a viewer with a fake t+2D image\nviewer = napari.view_image(image)\n\n# create an empty shapes layer initialized with\n# text set to display the box label\ntext_kwargs = {\n    'string': text_feature,\n    'size': text_size,\n    'color': text_color\n}\nshapes = viewer.add_shapes(\n    face_color='black',\n    features=features,\n    text=text_kwargs,\n    ndim=3\n)\n\n# create the label section gui\nlabel_widget = create_label_menu(\n    shapes_layer=shapes,\n    label_feature=text_feature,\n    labels=box_annotations\n)\n# add the label selection gui to the viewer as a dock widget\nviewer.window.add_dock_widget(label_widget, area='right', name='label_widget')\n\n# set the shapes layer mode to adding rectangles\nshapes.mode = 'add_rectangle'\n\nif __name__ == '__main__':\n    napari.run()"
      ]
    }
  ],
  "metadata": {
    "kernelspec": {
      "display_name": "Python 3",
      "language": "python",
      "name": "python3"
    },
    "language_info": {
      "codemirror_mode": {
        "name": "ipython",
        "version": 3
      },
      "file_extension": ".py",
      "mimetype": "text/x-python",
      "name": "python",
      "nbconvert_exporter": "python",
      "pygments_lexer": "ipython3",
      "version": "3.9.16"
    }
  },
  "nbformat": 4,
  "nbformat_minor": 0
}