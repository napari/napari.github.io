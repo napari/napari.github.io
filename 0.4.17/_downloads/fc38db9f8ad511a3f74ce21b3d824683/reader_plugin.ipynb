{
  "cells": [
    {
      "cell_type": "code",
      "execution_count": null,
      "metadata": {
        "collapsed": false
      },
      "outputs": [],
      "source": [
        "%matplotlib inline"
      ]
    },
    {
      "cell_type": "markdown",
      "metadata": {},
      "source": [
        "\n# Reader plugin\n\nBarebones reader plugin example, using ``imageio.imread```\n\n.. tags:: historical\n"
      ]
    },
    {
      "cell_type": "code",
      "execution_count": null,
      "metadata": {
        "collapsed": false
      },
      "outputs": [],
      "source": [
        "from napari_plugin_engine import napari_hook_implementation\nfrom imageio import formats, imread\n\n\nreadable_extensions = tuple({x for f in formats for x in f.extensions})\n\n\n@napari_hook_implementation\ndef napari_get_reader(path):\n    \"\"\"A basic implementation of the napari_get_reader hook specification.\"\"\"\n    # if we know we cannot read the file, we immediately return None.\n    if not path.endswith(readable_extensions):\n        return None\n    # otherwise we return the *function* that can read ``path``.\n    return reader_function\n\n\ndef reader_function(path):\n    \"\"\"Take a path and returns a list of LayerData tuples.\"\"\"\n    data = imread(path)\n    # Readers are expected to return data as a list of tuples, where each tuple\n    # is (data, [meta_dict, [layer_type]])\n    return [(data,)]"
      ]
    }
  ],
  "metadata": {
    "kernelspec": {
      "display_name": "Python 3",
      "language": "python",
      "name": "python3"
    },
    "language_info": {
      "codemirror_mode": {
        "name": "ipython",
        "version": 3
      },
      "file_extension": ".py",
      "mimetype": "text/x-python",
      "name": "python",
      "nbconvert_exporter": "python",
      "pygments_lexer": "ipython3",
      "version": "3.9.15"
    }
  },
  "nbformat": 4,
  "nbformat_minor": 0
}