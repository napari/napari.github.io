{
  "cells": [
    {
      "cell_type": "markdown",
      "metadata": {},
      "source": [
        "\n# 3D image plane rendering\n\nDisplay one 3D image layer and display it as a plane\nwith a simple widget for modifying plane parameters.\n\n.. tags:: visualization-advanced, gui, layers\n"
      ]
    },
    {
      "cell_type": "code",
      "execution_count": null,
      "metadata": {
        "collapsed": false
      },
      "outputs": [],
      "source": [
        "import numpy as np\nfrom skimage import data\n\nimport napari\nfrom napari.utils.translations import trans\n\nviewer = napari.Viewer(ndisplay=3)\n\n# add a 3D image\nblobs = data.binary_blobs(\n    length=64, volume_fraction=0.1, n_dim=3\n).astype(np.float32)\nimage_layer = viewer.add_image(\n    blobs, rendering='mip', name='volume', blending='additive', opacity=0.25\n)\n\n# add the same 3D image and render as plane\n# plane should be in 'additive' blending mode or depth looks all wrong\nplane_parameters = {\n    'position': (32, 32, 32),\n    'normal': (0, 1, 0),\n    'thickness': 10,\n}\n\nplane_layer = viewer.add_image(\n    blobs,\n    rendering='average',\n    name='plane',\n    depiction='plane',\n    blending='additive',\n    opacity=0.5,\n    plane=plane_parameters\n)\nviewer.axes.visible = True\nviewer.camera.angles = (45, 45, 45)\nviewer.camera.zoom = 5\nviewer.text_overlay.text = trans._(\n    \"\"\"\nshift + click and drag to move the plane\npress 'x', 'y' or 'z' to orient the plane along that axis around the cursor\npress 'o' to orient the plane normal along the camera view direction\npress and hold 'o' then click and drag to make the plane normal follow the camera\n\"\"\"\n)\nviewer.text_overlay.visible = True\nif __name__ == '__main__':\n    napari.run()"
      ]
    }
  ],
  "metadata": {
    "kernelspec": {
      "display_name": "Python 3",
      "language": "python",
      "name": "python3"
    },
    "language_info": {
      "codemirror_mode": {
        "name": "ipython",
        "version": 3
      },
      "file_extension": ".py",
      "mimetype": "text/x-python",
      "name": "python",
      "nbconvert_exporter": "python",
      "pygments_lexer": "ipython3",
      "version": "3.9.16"
    }
  },
  "nbformat": 4,
  "nbformat_minor": 0
}