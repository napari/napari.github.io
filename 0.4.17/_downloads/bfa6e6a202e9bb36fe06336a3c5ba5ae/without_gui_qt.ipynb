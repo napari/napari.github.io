{
  "cells": [
    {
      "cell_type": "code",
      "execution_count": null,
      "metadata": {
        "collapsed": false
      },
      "outputs": [],
      "source": [
        "%matplotlib inline"
      ]
    },
    {
      "cell_type": "markdown",
      "metadata": {},
      "source": [
        "\n# napari without gui_qt\n\nAlternative to using napari.gui_qt() context manager.\n\nThis is here for historical purposes, to the transition away from\nthe \"gui_qt()\" context manager.\n\n.. tags:: historical\n"
      ]
    },
    {
      "cell_type": "code",
      "execution_count": null,
      "metadata": {
        "collapsed": false
      },
      "outputs": [],
      "source": [
        "from skimage import data\nimport napari\nfrom collections import Counter\n\nviewer = napari.view_image(data.astronaut(), rgb=True)\n\n# You can do anything you would normally do with the viewer object\n# like take a\nscreenshot = viewer.screenshot()\n\nprint('Maximum value', screenshot.max())\n\n# To see the napari viewer and interact with the graphical user interface,\n# use `napari.run()`.  (it's similar to `plt.show` in matplotlib)\n# If you only wanted the screenshot then you could skip this entirely.\n# *run* will *block execution of your script* until the window is closed.\nif __name__ == '__main__':\n    napari.run()\n\n    # When the window is closed, your script continues and you can still inspect\n    # the viewer object.  For example, add click the buttons to add various layer\n    # types when the window is open and see the result below:\n\n    print(\"Your viewer has the following layers:\")\n    for name, n in Counter(type(x).__name__ for x in viewer.layers).most_common():\n        print(f\"   {name:<7}: {n}\")"
      ]
    }
  ],
  "metadata": {
    "kernelspec": {
      "display_name": "Python 3",
      "language": "python",
      "name": "python3"
    },
    "language_info": {
      "codemirror_mode": {
        "name": "ipython",
        "version": 3
      },
      "file_extension": ".py",
      "mimetype": "text/x-python",
      "name": "python",
      "nbconvert_exporter": "python",
      "pygments_lexer": "ipython3",
      "version": "3.9.15"
    }
  },
  "nbformat": 4,
  "nbformat_minor": 0
}