{
  "cells": [
    {
      "cell_type": "markdown",
      "metadata": {},
      "source": [
        "\n# Surface with multiple textures\n\nThis example demonstrates one possible method for displaying a 3D surface with\nmultiple textures.\n\nThanks to Emmanuel Reynaud and Luis Gutierrez for providing the gorgeous coral\nmodel for this demo. You can find the data on FigShare:\nhttps://doi.org/10.6084/m9.figshare.22348645\n\nMore information on the methods used to generate this model can be found in *L.\nGutierrez-Heredia, C. Keogh, E. G. Reynaud, Assessing the Capabilities of\nAdditive Manufacturing Technologies for Coral Studies, Education, and\nMonitoring. Front. Mar. Sci. 5 (2018), doi:10.3389/fmars.2018.00278.*\n\n## A bit about 3D models\n\nA standard way to define a 3D model (mesh, or Surface in napari) is by listing\nvertices (3D point coordinates) and faces (triplets of vertex indices - each\nface is a triangle in 3D space). Meshes are often stored in \"Wavefront\" (.obj)\nfiles, which may have companion material (.mtl) files that describe some\nshading properties (base color, shinyness, etc.) for different parts of the\nmodel.\n\nIn some cases, the color of a vertex is given by a single point value that is\nthen colormapped on the fly (`vertex_values`). In other cases, each vertex or\nface may be assigned a specific color (`vertex_colors`). These methods are\ndemonstrated in `sphx_glr_gallery_surface_texture_and_colors.py`.\n\nIn the case of \"photorealistic\" models, the color of each vertex is instead\ndetermined by mapping a vertex to a point in an image called a texture using 2D\ntexture coordinates in the range [0, 1]. The color of each individual pixel is\nsmoothly interpolated (sampled) on the fly from the texture (the GPU makes this\ninterpolation very fast).\n\nNapari does not (yet) support models with multiple textures or materials. If\nthe textures don't overlap, you can display them on separate meshes as shown in\nthis demo. If the textures do overlap, you may instead be able to combine the\ntextures as images. This relies on textures having the same texture\ncoordinates, and may require resizing the textures to match each other.\n\n.. tags:: visualization-nD\n"
      ]
    },
    {
      "cell_type": "code",
      "execution_count": null,
      "metadata": {
        "collapsed": false
      },
      "outputs": [],
      "source": [
        "import os\n\nimport matplotlib.pyplot as plt\nimport pooch\nfrom vispy.io import imread, read_mesh\n\nimport napari"
      ]
    },
    {
      "cell_type": "markdown",
      "metadata": {},
      "source": [
        "## Download the model\n\n"
      ]
    },
    {
      "cell_type": "code",
      "execution_count": null,
      "metadata": {
        "collapsed": false
      },
      "outputs": [],
      "source": [
        "download = pooch.DOIDownloader(progressbar=True)\ndoi = \"10.6084/m9.figshare.22348645.v1\"\ntmp_dir = pooch.os_cache(\"napari-surface-texture-example\")\nos.makedirs(tmp_dir, exist_ok=True)\ndata_files = {\n    \"mesh\": \"PocilloporaDamicornisSkin.obj\",\n    # \"materials\": \"PocilloporaVerrugosaSkinCrop.mtl\",  # not yet supported\n    \"Texture_0\": \"PocilloporaDamicornisSkin_Texture_0.jpg\",\n    \"GeneratedMat2\": \"PocilloporaDamicornisSkin_GeneratedMat2.png\",\n}\nprint(f\"downloading data into {tmp_dir}\")\nfor file_name in data_files.values():\n    if not (tmp_dir / file_name).exists():\n        print(f\"downloading {file_name}\")\n        download(\n            f\"doi:{doi}/{file_name}\",\n            output_file=tmp_dir / file_name,\n            pooch=None,\n        )\n    else:\n        print(f\"using cached {tmp_dir / file_name}\")"
      ]
    },
    {
      "cell_type": "markdown",
      "metadata": {},
      "source": [
        "## Load the model\nNext, read the model data from the .obj file. Currently napari/vispy do not\nsupport reading material properties (.mtl files) nor separate texture and\nvertex indices (i.e. repeated vertices). Normal vectors read from the file\nare also ignored and re-calculated from the faces.\n\n"
      ]
    },
    {
      "cell_type": "code",
      "execution_count": null,
      "metadata": {
        "collapsed": false
      },
      "outputs": [],
      "source": [
        "vertices, faces, _normals, texcoords = read_mesh(tmp_dir / data_files[\"mesh\"])"
      ]
    },
    {
      "cell_type": "markdown",
      "metadata": {},
      "source": [
        "## Load the textures\nThis model comes with two textures: `Texture_0` is generated from\nphotogrammetry of the actual object, and `GeneratedMat2` is a generated\nmaterial to fill in  parts of the model lacking photographic texture.\n\n"
      ]
    },
    {
      "cell_type": "code",
      "execution_count": null,
      "metadata": {
        "collapsed": false
      },
      "outputs": [],
      "source": [
        "photo_texture = imread(tmp_dir / data_files[\"Texture_0\"])\ngenerated_texture = imread(tmp_dir / data_files[\"GeneratedMat2\"])"
      ]
    },
    {
      "cell_type": "markdown",
      "metadata": {},
      "source": [
        "This is what the texture images look like in 2D:\n\n"
      ]
    },
    {
      "cell_type": "code",
      "execution_count": null,
      "metadata": {
        "collapsed": false
      },
      "outputs": [],
      "source": [
        "fig, axs = plt.subplots(1, 2)\naxs[0].set_title(f\"Texture_0 {photo_texture.shape}\")\naxs[0].imshow(photo_texture)\naxs[0].set_xticks((0, photo_texture.shape[1]), labels=(0.0, 1.0))\naxs[0].set_yticks((0, photo_texture.shape[0]), labels=(0.0, 1.0))\naxs[1].set_title(f\"GeneratedMat2 {generated_texture.shape}\")\naxs[1].imshow(generated_texture)\naxs[1].set_xticks((0, generated_texture.shape[1]), labels=(0.0, 1.0))\naxs[1].set_yticks((0, generated_texture.shape[0]), labels=(0.0, 1.0))\nfig.show()"
      ]
    },
    {
      "cell_type": "markdown",
      "metadata": {},
      "source": [
        "## Create the napari layers\nNext create two separate layers with the same mesh - once with each texture.\nIn this example the texture coordinates happen to be the same for each\ntexture, but this is not a strict requirement.\n\n"
      ]
    },
    {
      "cell_type": "code",
      "execution_count": null,
      "metadata": {
        "collapsed": false
      },
      "outputs": [],
      "source": [
        "photo_texture_layer = napari.layers.Surface(\n    (vertices, faces),\n    texture=photo_texture,\n    texcoords=texcoords,\n    name=\"Texture_0\",\n)\ngenerated_texture_layer = napari.layers.Surface(\n    (vertices, faces),\n    texture=generated_texture,\n    texcoords=texcoords,\n    name=\"GeneratedMat2\",\n)"
      ]
    },
    {
      "cell_type": "markdown",
      "metadata": {},
      "source": [
        "## Add the layers to a viewer\nFinally, create the viewer and add the Surface layers.\nsphinx_gallery_thumbnail_number = 2\n\n"
      ]
    },
    {
      "cell_type": "code",
      "execution_count": null,
      "metadata": {
        "collapsed": false
      },
      "outputs": [],
      "source": [
        "viewer = napari.Viewer(ndisplay=3)\n\nviewer.add_layer(photo_texture_layer)\nviewer.add_layer(generated_texture_layer)\n\nviewer.camera.angles = (90.0, 0.0, -75.0)\nviewer.camera.zoom = 75\n\nif __name__ == '__main__':\n    napari.run()"
      ]
    }
  ],
  "metadata": {
    "kernelspec": {
      "display_name": "Python 3",
      "language": "python",
      "name": "python3"
    },
    "language_info": {
      "codemirror_mode": {
        "name": "ipython",
        "version": 3
      },
      "file_extension": ".py",
      "mimetype": "text/x-python",
      "name": "python",
      "nbconvert_exporter": "python",
      "pygments_lexer": "ipython3",
      "version": "3.9.16"
    }
  },
  "nbformat": 4,
  "nbformat_minor": 0
}