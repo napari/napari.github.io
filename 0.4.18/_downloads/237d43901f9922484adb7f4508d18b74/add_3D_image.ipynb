{
  "cells": [
    {
      "cell_type": "markdown",
      "metadata": {},
      "source": [
        "\n# Add 3D image\n\nDisplay a 3D image layer using the :meth:`add_image` API.\n\n.. tags:: visualization-nD, layers\n"
      ]
    },
    {
      "cell_type": "code",
      "execution_count": null,
      "metadata": {
        "collapsed": false
      },
      "outputs": [],
      "source": [
        "from skimage import data\n\nimport napari\n\nblobs = data.binary_blobs(length=64, volume_fraction=0.1, n_dim=3).astype(\n    float\n)\nviewer = napari.Viewer(ndisplay=3)\n# add the volume\nviewer.add_image(blobs, scale=[3, 1, 1])\n\nif __name__ == '__main__':\n    napari.run()"
      ]
    }
  ],
  "metadata": {
    "kernelspec": {
      "display_name": "Python 3",
      "language": "python",
      "name": "python3"
    },
    "language_info": {
      "codemirror_mode": {
        "name": "ipython",
        "version": 3
      },
      "file_extension": ".py",
      "mimetype": "text/x-python",
      "name": "python",
      "nbconvert_exporter": "python",
      "pygments_lexer": "ipython3",
      "version": "3.9.16"
    }
  },
  "nbformat": 4,
  "nbformat_minor": 0
}