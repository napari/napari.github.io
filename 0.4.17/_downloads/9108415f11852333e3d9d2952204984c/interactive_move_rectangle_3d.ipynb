{
  "cells": [
    {
      "cell_type": "code",
      "execution_count": null,
      "metadata": {
        "collapsed": false
      },
      "outputs": [],
      "source": [
        "%matplotlib inline"
      ]
    },
    {
      "cell_type": "markdown",
      "metadata": {},
      "source": [
        "\n# Interactive move rectangle\n\nShift a rectangle along its normal vector in 3D\n\n.. tags:: experimental\n"
      ]
    },
    {
      "cell_type": "code",
      "execution_count": null,
      "metadata": {
        "collapsed": false
      },
      "outputs": [],
      "source": [
        "import napari\nimport numpy as np\n\nrectangle = np.array(\n    [\n        [50, 75, 75],\n        [50, 125, 75],\n        [100, 125, 125],\n        [100, 75, 125]\n    ],\n    dtype=float\n)\n\nshapes_data = np.array(rectangle)\nnormal_vector = np.cross(\n    rectangle[0] - rectangle[1], rectangle[2] - rectangle[1]\n)\nnormal_vector /= np.linalg.norm(normal_vector)\n\nviewer = napari.Viewer(ndisplay=3)\n\nshapes_layer = viewer.add_shapes(\n    data=shapes_data,\n    face_color='blue'\n)\nviewer.camera.angles = (-170, -20, -170)\nviewer.camera.zoom = 1.5\nviewer.text_overlay.visible = True\nviewer.text_overlay.text = \"\"\"'click and drag the rectangle to create copies along its normal vector\n\"\"\"\n\n\n@shapes_layer.mouse_drag_callbacks.append\ndef move_rectangle_along_normal(layer, event):\n    shape_index, _ = layer.get_value(\n        position=event.position,\n        view_direction=event.view_direction,\n        dims_displayed=event.dims_displayed\n    )\n    if shape_index is None:\n        return\n\n    layer.interactive = False\n\n    start_position = np.copy(event.position)\n    yield\n    while event.type == 'mouse_move':\n        projected_distance = layer.projected_distance_from_mouse_drag(\n            start_position=start_position,\n            end_position=event.position,\n            view_direction=event.view_direction,\n            vector=normal_vector,\n            dims_displayed=event.dims_displayed,\n        )\n        shift_data_coordinates = projected_distance * normal_vector\n        new_rectangle = layer.data[shape_index] + shift_data_coordinates\n        layer.add(new_rectangle)\n        yield\n    layer.interactive = True\n\n\nif __name__ == '__main__':\n    napari.run()"
      ]
    }
  ],
  "metadata": {
    "kernelspec": {
      "display_name": "Python 3",
      "language": "python",
      "name": "python3"
    },
    "language_info": {
      "codemirror_mode": {
        "name": "ipython",
        "version": 3
      },
      "file_extension": ".py",
      "mimetype": "text/x-python",
      "name": "python",
      "nbconvert_exporter": "python",
      "pygments_lexer": "ipython3",
      "version": "3.9.15"
    }
  },
  "nbformat": 4,
  "nbformat_minor": 0
}