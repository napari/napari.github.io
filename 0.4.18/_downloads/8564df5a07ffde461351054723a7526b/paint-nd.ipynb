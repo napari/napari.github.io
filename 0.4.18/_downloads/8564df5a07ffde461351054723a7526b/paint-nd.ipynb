{
  "cells": [
    {
      "cell_type": "markdown",
      "metadata": {},
      "source": [
        "\n# Paint nD\n\nDisplay a 4D labels layer and paint only in 3D.\n\nThis is useful e.g. when proofreading segmentations within a time series.\n\n.. tags:: analysis\n"
      ]
    },
    {
      "cell_type": "code",
      "execution_count": null,
      "metadata": {
        "collapsed": false
      },
      "outputs": [],
      "source": [
        "import numpy as np\nfrom skimage import data\n\nimport napari\n\nblobs = np.stack(\n    [\n        data.binary_blobs(\n            length=128, blob_size_fraction=0.05, n_dim=3, volume_fraction=f\n        )\n        for f in np.linspace(0.05, 0.5, 10)\n    ],\n    axis=0,\n)\nviewer = napari.view_image(blobs.astype(float), rendering='attenuated_mip')\nlabels = viewer.add_labels(np.zeros_like(blobs, dtype=np.int32))\nlabels.n_edit_dimensions = 3\nlabels.brush_size = 15\nlabels.mode = 'paint'\nlabels.n_dimensional = True\n\nif __name__ == '__main__':\n    napari.run()"
      ]
    }
  ],
  "metadata": {
    "kernelspec": {
      "display_name": "Python 3",
      "language": "python",
      "name": "python3"
    },
    "language_info": {
      "codemirror_mode": {
        "name": "ipython",
        "version": 3
      },
      "file_extension": ".py",
      "mimetype": "text/x-python",
      "name": "python",
      "nbconvert_exporter": "python",
      "pygments_lexer": "ipython3",
      "version": "3.9.16"
    }
  },
  "nbformat": 4,
  "nbformat_minor": 0
}