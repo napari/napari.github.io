{
  "cells": [
    {
      "cell_type": "code",
      "execution_count": null,
      "metadata": {
        "collapsed": false
      },
      "outputs": [],
      "source": [
        "%matplotlib inline"
      ]
    },
    {
      "cell_type": "markdown",
      "metadata": {},
      "source": [
        "\n# Tracks 3D\n\n.. tags:: visualization-advanced\n"
      ]
    },
    {
      "cell_type": "code",
      "execution_count": null,
      "metadata": {
        "collapsed": false
      },
      "outputs": [],
      "source": [
        "import napari\nimport numpy as np\n\n\ndef lissajous(t):\n    a = np.random.random(size=(3,)) * 80.0 - 40.0\n    b = np.random.random(size=(3,)) * 0.05\n    c = np.random.random(size=(3,)) * 0.1\n    return (a[i] * np.cos(b[i] * t + c[i]) for i in range(3))\n\n\ndef tracks_3d(num_tracks=10):\n    \"\"\" create 3d+t track data \"\"\"\n    tracks = []\n\n    for track_id in range(num_tracks):\n\n        # space to store the track data and features\n        track = np.zeros((200, 10), dtype=np.float32)\n\n        # time\n        timestamps = np.arange(track.shape[0])\n        x, y, z = lissajous(timestamps)\n\n        track[:, 0] = track_id\n        track[:, 1] = timestamps\n        track[:, 2] = 50.0 + z\n        track[:, 3] = 50.0 + y\n        track[:, 4] = 50.0 + x\n\n        # calculate the speed as a feature\n        gz = np.gradient(track[:, 2])\n        gy = np.gradient(track[:, 3])\n        gx = np.gradient(track[:, 4])\n\n        speed = np.sqrt(gx ** 2 + gy ** 2 + gz ** 2)\n        distance = np.sqrt(x ** 2 + y ** 2 + z ** 2)\n\n        track[:, 5] = gz\n        track[:, 6] = gy\n        track[:, 7] = gx\n        track[:, 8] = speed\n        track[:, 9] = distance\n\n        tracks.append(track)\n\n    tracks = np.concatenate(tracks, axis=0)\n    data = tracks[:, :5]  # just the coordinate data\n\n    features = {\n        'time': tracks[:, 1],\n        'gradient_z': tracks[:, 5],\n        'gradient_y': tracks[:, 6],\n        'gradient_x': tracks[:, 7],\n        'speed': tracks[:, 8],\n        'distance': tracks[:, 9],\n    }\n\n    graph = {}\n    return data, features, graph\n\n\ntracks, features, graph = tracks_3d(num_tracks=100)\nvertices = tracks[:, 1:]\n\nviewer = napari.Viewer(ndisplay=3)\nviewer.add_points(vertices, size=1, name='points', opacity=0.3)\nviewer.add_tracks(tracks, features=features, name='tracks')\n\nif __name__ == '__main__':\n    napari.run()"
      ]
    }
  ],
  "metadata": {
    "kernelspec": {
      "display_name": "Python 3",
      "language": "python",
      "name": "python3"
    },
    "language_info": {
      "codemirror_mode": {
        "name": "ipython",
        "version": 3
      },
      "file_extension": ".py",
      "mimetype": "text/x-python",
      "name": "python",
      "nbconvert_exporter": "python",
      "pygments_lexer": "ipython3",
      "version": "3.9.15"
    }
  },
  "nbformat": 4,
  "nbformat_minor": 0
}